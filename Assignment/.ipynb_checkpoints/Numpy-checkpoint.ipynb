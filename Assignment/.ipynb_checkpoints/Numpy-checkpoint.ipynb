{
 "cells": [
  {
   "cell_type": "code",
   "execution_count": null,
   "metadata": {},
   "outputs": [],
   "source": [
    "# Trong python, để định nghĩa, làm việc với array có thể dùng list nhưng chậm.\n",
    "# Numpy có đối tượng ndarray nhanh hơn 50x lần. Ngoài ra còn có nhiều hàm xây dựng sẵn hỗ trợ tính toán.\n",
    "# Tham khảo:\n",
    "# https://www.w3schools.com/python/numpy_intro.asp\n",
    "# https://www.geeksforgeeks.org/python-numpy/?ref=lbp\n",
    "# https://numpy.org/doc/stable/index.html"
   ]
  },
  {
   "cell_type": "code",
   "execution_count": 91,
   "metadata": {
    "scrolled": true
   },
   "outputs": [
    {
     "name": "stdout",
     "output_type": "stream",
     "text": [
      "Numpy version:  1.18.5\n"
     ]
    }
   ],
   "source": [
    "import numpy as np\n",
    "# Xem version của numpy\n",
    "print('Numpy version: ', np.__version__)\n",
    "# document của numpy\n",
    "# print(np.__doc__)"
   ]
  },
  {
   "cell_type": "code",
   "execution_count": 72,
   "metadata": {},
   "outputs": [
    {
     "name": "stdout",
     "output_type": "stream",
     "text": [
      "Ma trận 0 chiều:  1\n",
      "Ma trận 1 chiều:  [1 2 3]\n",
      "Ma trận 2 chiều:  [1 2 3] [4 5 6]\n",
      "Ma trận 2 chiều:  ['1' '2' '3'] ['4' '5' '6']\n"
     ]
    }
   ],
   "source": [
    "print('Ma trận 0 chiều: ', np.array(1))\n",
    "print('Ma trận 1 chiều: ', np.array([1, 2, 3]))\n",
    "print('Ma trận 2 chiều: ', *np.array([[1, 2, 3], [4, 5, 6]]))\n",
    "# Nếu có giá trị là str thì toàn bộ array là str\n",
    "print('Ma trận 2 chiều: ', *np.array([[1, '2', 3], [4, 5, 6]]))"
   ]
  },
  {
   "cell_type": "code",
   "execution_count": 73,
   "metadata": {},
   "outputs": [
    {
     "name": "stdout",
     "output_type": "stream",
     "text": [
      "ndim: lấy số chiều của ma trận\n",
      "Ma trận 3 chiều:\n",
      " [[[ 1  2  3]\n",
      "  [ 4  5  6]]\n",
      "\n",
      " [[-1 -2 -3]\n",
      "  [-4 -5 -6]]] \n",
      "\n",
      "shape: lấy kích thước của ma trận\n",
      "(2, 2, 3) \n",
      "\n",
      "reshape: chuyển kích thước của ma trận, phải đảm bảo shape mới phù hợp số phần tử\n",
      "[[ 1  2  3]\n",
      " [ 4  5  6]\n",
      " [-1 -2 -3]\n",
      " [-4 -5 -6]]\n",
      "flatten hoặc ravel: Chuyển về ma trận 1 chiều, flatten copy thành array mới, còn ravel chuyển trực tiếp\n",
      "[ 1  2  3  4  5  6 -1 -2 -3 -4 -5 -6]\n",
      "[ 1  2  3  4  5  6 -1 -2 -3 -4 -5 -6]\n",
      "Số phần tử của ma trận:  12 \n",
      "\n",
      "Kiểu dữ liệu của từng phần tử trong ma trận:  int32\n",
      "arr3 có tham số là list:[] và tupe:(). np.array sẽ chuyển hết về ndarray\n",
      "<class 'numpy.ndarray'>\n",
      "<class 'numpy.ndarray'>\n",
      "<class 'numpy.int32'>\n"
     ]
    }
   ],
   "source": [
    "arr3 = np.array([\n",
    "                 [(1, 2, 3), [4, 5, 6]],\n",
    "                 ([-1, -2, -3], [-4, -5, -6])\n",
    "                ])\n",
    "print('ndim: lấy số chiều của ma trận')\n",
    "print('Ma trận {} chiều:\\n'.format(arr3.ndim), arr3, '\\n')\n",
    "print('shape: lấy kích thước của ma trận')\n",
    "print(arr3.shape, '\\n')\n",
    "print('reshape: chuyển kích thước của ma trận, phải đảm bảo shape mới phù hợp số phần tử')\n",
    "print(arr3.reshape(4, 3))\n",
    "print('flatten hoặc ravel: Chuyển về ma trận 1 chiều, flatten copy thành array mới, còn ravel chuyển trực tiếp')\n",
    "print(arr3.flatten())\n",
    "print(arr3.ravel())\n",
    "print('Số phần tử của ma trận: ', arr3.size, '\\n')\n",
    "print('Kiểu dữ liệu của từng phần tử trong ma trận: ', arr3.dtype)\n",
    "\n",
    "print('arr3 có tham số là list:[] và tupe:(). np.array sẽ chuyển hết về ndarray')\n",
    "print(type(arr3[0]))\n",
    "print(type(arr3[0][0]))\n",
    "print(type(arr3[0][0][0]))\n"
   ]
  },
  {
   "cell_type": "code",
   "execution_count": 74,
   "metadata": {},
   "outputs": [
    {
     "name": "stdout",
     "output_type": "stream",
     "text": [
      "Thêm tham số dtype để gán kiểu cho các phần tử trong ma trận.\n",
      "['1' '2' '3']\n",
      "[1 2 3]\n"
     ]
    }
   ],
   "source": [
    "print('Thêm tham số dtype để gán kiểu cho các phần tử trong ma trận.')\n",
    "arr = np.array([1, 2, 3], dtype = 'str')\n",
    "print(arr)\n",
    "arr = np.array(arr, dtype='int')\n",
    "print(arr)"
   ]
  },
  {
   "cell_type": "code",
   "execution_count": 75,
   "metadata": {},
   "outputs": [
    {
     "name": "stdout",
     "output_type": "stream",
     "text": [
      "[0 1 2 3 4]\n",
      "[10  8  6  4  2]\n",
      "[10.  8.  6.  4.  2.]\n"
     ]
    }
   ],
   "source": [
    "# Tạo ma trận bằng arange(start, end, step, dtype).\n",
    "print(np.arange(0, 5))\n",
    "print(np.arange(10, 0, -2))\n",
    "print(np.arange(10, 0, -2, 'float'))"
   ]
  },
  {
   "cell_type": "code",
   "execution_count": 91,
   "metadata": {},
   "outputs": [
    {
     "name": "stdout",
     "output_type": "stream",
     "text": [
      "linspace(0, 3, 5) = [0.   0.75 1.5  2.25 3.  ]\n",
      "Tham số retstep hiển thị (ma trận, bước nhảy giữa các p.tử):\n",
      " (array([0.  , 0.75, 1.5 , 2.25, 3.  ]), 0.75) \n",
      "\n",
      "Mặc định số phần tử là: 50 \n",
      " (array([0.        , 0.06122449, 0.12244898, 0.18367347, 0.24489796,\n",
      "       0.30612245, 0.36734694, 0.42857143, 0.48979592, 0.55102041,\n",
      "       0.6122449 , 0.67346939, 0.73469388, 0.79591837, 0.85714286,\n",
      "       0.91836735, 0.97959184, 1.04081633, 1.10204082, 1.16326531,\n",
      "       1.2244898 , 1.28571429, 1.34693878, 1.40816327, 1.46938776,\n",
      "       1.53061224, 1.59183673, 1.65306122, 1.71428571, 1.7755102 ,\n",
      "       1.83673469, 1.89795918, 1.95918367, 2.02040816, 2.08163265,\n",
      "       2.14285714, 2.20408163, 2.26530612, 2.32653061, 2.3877551 ,\n",
      "       2.44897959, 2.51020408, 2.57142857, 2.63265306, 2.69387755,\n",
      "       2.75510204, 2.81632653, 2.87755102, 2.93877551, 3.        ]), 0.061224489795918366) \n",
      "\n",
      "Ép kiểu phần tử dtype= str:  ['0.0' '0.75' '1.5' '2.25' '3.0'] \n",
      "\n",
      "Tham số endpoint mặc định = True: phần tử cuối cùng là số stop\n",
      " = False phần tử cuối cùng nhỏ hơn số stop\n",
      "(array([0.  , 0.25, 0.5 , 0.75, 1.  ]), 0.25)\n",
      "(array([0. , 0.2, 0.4, 0.6, 0.8]), 0.2)\n"
     ]
    }
   ],
   "source": [
    "# Tạo ma trận bằng linspace(start, stop, number_of_elements)\n",
    "# Các phần tử cách đều nhau trong [start:stop]\n",
    "print('linspace(0, 3, 5) =', np.linspace(0, 3, num=5))\n",
    "print('Tham số retstep hiển thị (ma trận, bước nhảy giữa các p.tử):\\n',\n",
    "      np.linspace(0, 3, num=5, retstep=True), '\\n')\n",
    "\n",
    "a = np.linspace(0, 3, retstep=True)\n",
    "print('Mặc định số phần tử là:', len(a[0]), '\\n', a, '\\n')\n",
    "\n",
    "a = np.linspace(0, 3, 5, dtype='str')\n",
    "print('Ép kiểu phần tử dtype= str: ', a, '\\n')\n",
    "\n",
    "print('Tham số endpoint mặc định = True: phần tử cuối cùng là số stop')\n",
    "print(' = False phần tử cuối cùng nhỏ hơn số stop')\n",
    "a = np.linspace(0, 1, 5, retstep=True)\n",
    "print(a)\n",
    "a = np.linspace(0, 1, 5, endpoint=False, retstep=True)\n",
    "print(a)"
   ]
  },
  {
   "cell_type": "code",
   "execution_count": 7,
   "metadata": {},
   "outputs": [
    {
     "name": "stdout",
     "output_type": "stream",
     "text": [
      "[[1. 0.]\n",
      " [0. 1.]] \n",
      "\n",
      "[[ 1  0  0]\n",
      " [ 0 -1  0]\n",
      " [ 0  0  3]]\n",
      "[[0. 0. 1. 0.]\n",
      " [0. 0. 0. 1.]\n",
      " [0. 0. 0. 0.]\n",
      " [0. 0. 0. 0.]] \n",
      "\n",
      "[[0. 0. 0. 0.]\n",
      " [1. 0. 0. 0.]\n",
      " [0. 1. 0. 0.]\n",
      " [0. 0. 1. 0.]] \n",
      "\n",
      "[[1. 0. 0. 0.]\n",
      " [0. 1. 0. 0.]\n",
      " [0. 0. 1. 0.]\n",
      " [0. 0. 0. 1.]]\n"
     ]
    }
   ],
   "source": [
    "# eye: Tạo ma trận 2 chiều đường chéo = 1, còn lại = 0. Mặc định kiểu float\n",
    "print(np.eye(2), '\\n')\n",
    "# Tạo ma trận với đường chéo chính cho trước\n",
    "print(np.diag((1,-1,3)))\n",
    "# k vị trí bắt đầu đường chéo, k>0 vị trí bắt đầu ở hàng thứ 0\n",
    "#                              k<0 vị trí bắt đầu ở hàng cuối.\n",
    "print(np.eye(4, k=2), '\\n')\n",
    "print(np.eye(4, k=-1), '\\n')\n",
    "# identity: Tạo ma trận vuông có đường chéo chính các số bằng 1.\n",
    "print(np.identity(4))"
   ]
  },
  {
   "cell_type": "code",
   "execution_count": 78,
   "metadata": {},
   "outputs": [
    {
     "name": "stdout",
     "output_type": "stream",
     "text": [
      "[[[1. 1. 1. 1. 1.]\n",
      "  [1. 1. 1. 1. 1.]\n",
      "  [1. 1. 1. 1. 1.]\n",
      "  [1. 1. 1. 1. 1.]]\n",
      "\n",
      " [[1. 1. 1. 1. 1.]\n",
      "  [1. 1. 1. 1. 1.]\n",
      "  [1. 1. 1. 1. 1.]\n",
      "  [1. 1. 1. 1. 1.]]\n",
      "\n",
      " [[1. 1. 1. 1. 1.]\n",
      "  [1. 1. 1. 1. 1.]\n",
      "  [1. 1. 1. 1. 1.]\n",
      "  [1. 1. 1. 1. 1.]]] \n",
      "\n",
      "[1. 1. 1.]\n"
     ]
    }
   ],
   "source": [
    "# ones: Tạo ma trận toàn số 1.\n",
    "# tham số là một số nguyên hoặc 1 tuple\n",
    "print(np.ones( (3,4,5) ) , '\\n')\n",
    "print(np.ones(3))"
   ]
  },
  {
   "cell_type": "code",
   "execution_count": 79,
   "metadata": {},
   "outputs": [
    {
     "name": "stdout",
     "output_type": "stream",
     "text": [
      "[[0. 0. 0. 0.]\n",
      " [0. 0. 0. 0.]\n",
      " [0. 0. 0. 0.]] \n",
      "\n",
      "[0. 0. 0.]\n"
     ]
    }
   ],
   "source": [
    "# zeros: Tạo ma trận toàn số 0.\n",
    "# tham số là một số nguyên hoặc 1 tuple\n",
    "print(np.zeros( (3,4) ) , '\\n')\n",
    "print(np.zeros(3))"
   ]
  },
  {
   "cell_type": "code",
   "execution_count": 80,
   "metadata": {},
   "outputs": [
    {
     "name": "stdout",
     "output_type": "stream",
     "text": [
      "[[0. 0. 0. 0.]\n",
      " [0. 0. 0. 0.]\n",
      " [0. 0. 0. 0.]] \n",
      "\n",
      "[[1.+0.j 2.+0.j 3.+0.j]\n",
      " [1.+0.j 2.+0.j 3.+0.j]] \n",
      "\n",
      "[[1 1 1]\n",
      " [1 1 1]]\n"
     ]
    }
   ],
   "source": [
    "# empty: Tạo ma trận với shape cho trước, không tạo thêm giá trị mới trên bộ nhớ, dùng 1 vùng giá trị có trên bộ nhớ.\n",
    "print(np.empty([3,4]), '\\n')\n",
    "# full: Tạo ma trận với shape, điền các giá trị cho trước, có thể là 1 số hoặc các số (bắt buộc phải có).\n",
    "print(np.full((2, 3), [1, 2, 3], dtype='complex'), '\\n')\n",
    "print(np.full((2, 3), 1))"
   ]
  },
  {
   "cell_type": "code",
   "execution_count": 92,
   "metadata": {},
   "outputs": [
    {
     "name": "stdout",
     "output_type": "stream",
     "text": [
      "[[0 1 2]\n",
      " [3 4 5]] \n",
      "\n",
      "[[1 1 1]\n",
      " [1 1 1]] \n",
      "\n",
      "[[0 0 0]\n",
      " [0 0 0]] \n",
      "\n",
      "[[-1 -2 -3]\n",
      " [-1 -2 -3]] \n",
      "\n",
      "[[-1 -2 -3]\n",
      " [-1 -2 -3]] \n",
      "\n",
      "[[ 2.   0.   4. ]\n",
      " [-0.5  6.   0. ]] \n",
      "\n"
     ]
    }
   ],
   "source": [
    "# ones_like, zeros_like, ....: Tạo ma trận theo shape của ma trận khác.\n",
    "a = np.arange(6); a = a.reshape((2, 3))\n",
    "print(a, '\\n')\n",
    "print(np.ones_like(a), '\\n')\n",
    "print(np.zeros_like(a), '\\n')\n",
    "print(np.full_like(a, [-1,-2,-3]), '\\n')\n",
    "print(np.empty_like(a, dtype='int'), '\\n')\n",
    "print(np.empty_like(a, dtype='float'), '\\n')"
   ]
  },
  {
   "cell_type": "code",
   "execution_count": 109,
   "metadata": {},
   "outputs": [
    {
     "name": "stdout",
     "output_type": "stream",
     "text": [
      "a= [1 0 1 0]\n",
      "b= [1 1 0 0]\n",
      "phép and từng cặp phần tử trong a, b\n",
      "[1 0 0 0] \n",
      "\n",
      "phép or từng cặp phần tử trong a, b\n",
      "[1 1 1 0] \n",
      "\n",
      "a= [ 0  4  8 12 16]\n",
      "b= [1 3 5 7 9]\n",
      "Cộng, trừ, nhân, chia theo cặp phần tử\n",
      "Cộng : [ 1  7 13 19 25]\n",
      "Trừ :  [-1  1  3  5  7]\n",
      "Nhân:  [  0  12  40  84 144]\n",
      "Chia: [0.         1.33333333 1.6        1.71428571 1.77777778]\n",
      "Chia làm tròn xuống:  [0 1 1 1 1]\n",
      "Chia lấy 2 ma trận nguyên, dư:,  (array([0, 1, 1, 1, 1], dtype=int32), array([0, 1, 3, 5, 7], dtype=int32))\n",
      "Chuyển các phần tử thành số âm [  0  -4  -8 -12 -16]\n"
     ]
    }
   ],
   "source": [
    "a = np.array([1,0,1,0])\n",
    "b = np.array([1,1,0,0])\n",
    "print('a=', a)\n",
    "print('b=', b)\n",
    "print('phép and từng cặp phần tử trong a, b')\n",
    "print(np.bitwise_and(a, b), '\\n')\n",
    "print('phép or từng cặp phần tử trong a, b')\n",
    "print(np.bitwise_or(a, b), '\\n')\n",
    "a = np.arange(0, 20, 4)\n",
    "b = np.arange(1, 10, 2)\n",
    "print('a=', a)\n",
    "print('b=', b)\n",
    "print('Cộng, trừ, nhân, chia theo cặp phần tử')\n",
    "print('Cộng :', np.add(a,b))\n",
    "print('Trừ : ', np.subtract(a,b))\n",
    "print('Nhân: ', np.multiply(a,b))\n",
    "print('Chia:', np.divide(a,b)) # 1/0 = infinite 0/0 = nan\n",
    "print('Chia làm tròn xuống: ', np.floor_divide(a,b))\n",
    "print('Chia lấy 2 ma trận nguyên, dư:, ', np.divmod(a,b))\n",
    "print('Chuyển các phần tử thành số âm', np.negative(a))# positive cho số dương"
   ]
  },
  {
   "cell_type": "code",
   "execution_count": 112,
   "metadata": {},
   "outputs": [
    {
     "name": "stdout",
     "output_type": "stream",
     "text": [
      "[[-1.   2.   0.   4. ]\n",
      " [ 4.  -0.5  6.   0. ]\n",
      " [ 2.6  0.   7.   8. ]\n",
      " [ 3.  -7.   4.   2. ]]\n",
      "Tạo ma trận mới, lấy phần tử theo index từ ma trận cho trước, ví dụ dòng 0 các vị trí 0, 2, 3\n",
      "[-1.  0.  4.] \n",
      "\n",
      "Lấy ma trận con 2 dòng, mỗi dòng lấy cột từ 1->3.\n",
      "[[ 2.   0.   4. ]\n",
      " [-0.5  6.   0. ]] \n",
      "\n",
      "Lấy phần tử theo index dòng, ứng cột, ví dụ ở đây lấy các phần tử (0, 3), (1, 2), (2, 1), (3, 0).\n",
      "[4. 6. 0. 3.] \n",
      "\n",
      "Lấy phần tử âm\n",
      "[-1.  -0.5 -7. ] \n",
      "\n",
      "Thay phần tử âm = -99\n",
      "[[-99.    2.    0.    4. ]\n",
      " [  4.  -99.    6.    0. ]\n",
      " [  2.6   0.    7.    8. ]\n",
      " [  3.  -99.    4.    2. ]] \n",
      "\n",
      "Ví dụ cộng mỗi phần tử với 1. Tương tự các phép toán khác.\n",
      "[[-98.    3.    1.    5. ]\n",
      " [  5.  -98.    7.    1. ]\n",
      " [  3.6   1.    8.    9. ]\n",
      " [  4.  -98.    5.    3. ]] \n",
      "\n",
      "Lũy thừa 2 cho mỗi phần tử.\n",
      "[[9.801e+03 4.000e+00 0.000e+00 1.600e+01]\n",
      " [1.600e+01 9.801e+03 3.600e+01 0.000e+00]\n",
      " [6.760e+00 0.000e+00 4.900e+01 6.400e+01]\n",
      " [9.000e+00 9.801e+03 1.600e+01 4.000e+00]] \n",
      "\n",
      "Chuyển vị ma trận.\n",
      "[[-99.    4.    2.6   3. ]\n",
      " [  2.  -99.    0.  -99. ]\n",
      " [  0.    6.    7.    4. ]\n",
      " [  4.    0.    8.    2. ]] \n",
      "\n",
      "max = 8.0, min = -99.0\n",
      "Tổng các dòng: [ -89.4 -196.    17.    14. ]\n",
      "Cộng tích lũy trên dưới trái phải (cumulative sum): \n",
      "[ -99.   -97.   -97.   -93.   -89.  -188.  -182.  -182.  -179.4 -179.4\n",
      " -172.4 -164.4 -161.4 -260.4 -256.4 -254.4]\n",
      "Cộng tích lũy theo dòng trái phải, ghi kết quả thành cột: \n",
      "[[ -99.     2.     0.     4. ]\n",
      " [ -95.   -97.     6.     4. ]\n",
      " [ -92.4  -97.    13.    12. ]\n",
      " [ -89.4 -196.    17.    14. ]]\n",
      "Cộng tích lũy theo cột trên dưới, ghi kết quả thành dòng: \n",
      "[[-99.  -97.  -97.  -93. ]\n",
      " [  4.  -95.  -89.  -89. ]\n",
      " [  2.6   2.6   9.6  17.6]\n",
      " [  3.  -96.  -92.  -90. ]]\n",
      "Cộng các phần tử: -254.400000\n",
      "Căn bậc 3 cbrt:  [1. 2. 3. 4.]\n"
     ]
    }
   ],
   "source": [
    "arr = np.array([[-1, 2, 0, 4],\n",
    "                [4, -0.5, 6, 0],\n",
    "                [2.6, 0, 7, 8],\n",
    "                [3, -7, 4, 2.0]])\n",
    "print(arr)\n",
    "print('Tạo ma trận mới, lấy phần tử theo index từ ma trận cho trước, ví dụ dòng 0 các vị trí 0, 2, 3')\n",
    "print(arr[0][np.array([0, 2, 3])], '\\n')\n",
    "print('Lấy ma trận con 2 dòng, mỗi dòng lấy cột từ 1->3.')\n",
    "print(arr[:2, 1:4], '\\n')\n",
    "print('Lấy phần tử theo index dòng, ứng cột, ví dụ ở đây lấy các phần tử (0, 3), (1, 2), (2, 1), (3, 0).')\n",
    "print(arr[[0, 1, 2, 3], [3, 2, 1, 0]], '\\n')\n",
    "print('Lấy phần tử âm')\n",
    "print(arr[arr < 0], '\\n')\n",
    "print('Thay phần tử âm = -99')\n",
    "arr[arr < 0] = -99\n",
    "print(arr, '\\n')\n",
    "# Tính element-wise (thực hiện phép tính với từng giá trị trong array)\n",
    "print('Ví dụ cộng mỗi phần tử với 1. Tương tự các phép toán khác.')\n",
    "print(arr + 1, '\\n')\n",
    "print('Lũy thừa 2 cho mỗi phần tử.')\n",
    "print(arr**(2), '\\n')\n",
    "print('Chuyển vị ma trận.')\n",
    "print(arr.T, '\\n')\n",
    "print('max = {}, min = {}'.format(arr.max(), arr.min()))\n",
    "print('Tổng các dòng: {}'.format(sum(arr)))\n",
    "print('Cộng tích lũy trên dưới trái phải (cumulative sum): \\n{}'.format(arr.cumsum()))\n",
    "print('Cộng tích lũy theo dòng trái phải, ghi kết quả thành cột: \\n{}'.format(arr.cumsum(axis = 0)))\n",
    "print('Cộng tích lũy theo cột trên dưới, ghi kết quả thành dòng: \\n{}'.format(arr.cumsum(axis = 1)))\n",
    "print(f'Cộng các phần tử: {arr.sum():f}')\n",
    "# Căn bậc ba cbrt\n",
    "print('Căn bậc 3 cbrt: ', np.cbrt(np.array([1, 8, 27, 64])))"
   ]
  },
  {
   "cell_type": "code",
   "execution_count": 84,
   "metadata": {},
   "outputs": [
    {
     "name": "stdout",
     "output_type": "stream",
     "text": [
      "Cộng ma trận:\n",
      " [[5 5]\n",
      " [5 5]]\n",
      "Nhân ma trận theo cặp phần tử:\n",
      " [[4 6]\n",
      " [6 4]]\n",
      "Nhân ma trận:\n",
      " [[ 8  5]\n",
      " [20 13]]\n"
     ]
    }
   ],
   "source": [
    "a = np.array([[1, 2],\n",
    "            [3, 4]])\n",
    "b = np.array([[4, 3],\n",
    "            [2, 1]])\n",
    "print (\"Cộng ma trận:\\n\", a + b)\n",
    "print (\"Nhân ma trận theo cặp phần tử:\\n\", a*b)\n",
    "print (\"Nhân ma trận:\\n\", a.dot(b))"
   ]
  },
  {
   "cell_type": "code",
   "execution_count": 17,
   "metadata": {},
   "outputs": [
    {
     "name": "stdout",
     "output_type": "stream",
     "text": [
      "a= [[0 1 2 3 4]\n",
      " [5 6 7 8 9]]\n",
      "b= [[1 1 1 1 1]\n",
      " [1 1 1 1 1]]\n",
      "Ghép b vào a theo chiều dọc (thêm dòng vào a)\n",
      "[[0 1 2 3 4]\n",
      " [5 6 7 8 9]\n",
      " [1 1 1 1 1]\n",
      " [1 1 1 1 1]]\n",
      "Ghép b vào a theo chiều ngang (thêm phần tử vào các dòng của a)\n",
      "[[0 1 2 3 4 1 1 1 1 1]\n",
      " [5 6 7 8 9 1 1 1 1 1]]\n",
      "Lấy ma trận giao của a và b\n",
      "[1]\n",
      "Lấy ma trận hiệu của a - b\n",
      "[0 2 3 4 5 6 7 8 9]\n",
      "Vị trí các phần tử trùng nhau của a và b\n",
      "(array([1], dtype=int64),)\n"
     ]
    }
   ],
   "source": [
    "a = np.arange(10).reshape(2,-1) # -1: tự chia kích thước còn lại của ma trận\n",
    "b = np.repeat(1, 10).reshape(2,-1)\n",
    "print('a=', a)\n",
    "print('b=', b)\n",
    "print('Ghép b vào a theo chiều dọc (thêm dòng vào a)')\n",
    "print(np.concatenate([a, b], axis = 0))\n",
    "#np.vstack([a, b]) # Cách 2\n",
    "#np.r_[a, b] # Cách 3\n",
    "print('Ghép b vào a theo chiều ngang (thêm phần tử vào các dòng của a)')\n",
    "print(np.hstack([a, b]))\n",
    "# np.concatenate([a, b], axis = 1)\n",
    "#np.c_[a, b]\n",
    "print('Lấy ma trận giao của a và b')\n",
    "print(np.intersect1d(a, b))\n",
    "print('Lấy ma trận hiệu của a - b')\n",
    "print(np.setdiff1d(a, b))"
   ]
  },
  {
   "cell_type": "code",
   "execution_count": 33,
   "metadata": {},
   "outputs": [
    {
     "name": "stdout",
     "output_type": "stream",
     "text": [
      "a= [1 2 3 2 3 4 3 4 5 6]\n",
      "b= [ 7  2 10  2  7  4  9  4  9  8]\n",
      "Vị trí các phần tử trùng nhau của a và b\n",
      "[1 3 5 7]\n",
      "Lấy phần tử trong a thuộc đoạn [4;6]\n",
      "[4 4 5 6]\n",
      "a=\n",
      " [[1 2]\n",
      " [3 2]\n",
      " [3 4]\n",
      " [3 4]\n",
      " [5 6]]\n",
      "Đổi vị trí cột trong a\n",
      "[[2 1]\n",
      " [2 3]\n",
      " [4 3]\n",
      " [4 3]\n",
      " [6 5]]\n",
      "Đổi vị trí dòng trong a\n",
      "[[5 6]\n",
      " [1 2]]\n"
     ]
    }
   ],
   "source": [
    "a = np.array([1,2,3,2,3,4,3,4,5,6])\n",
    "b = np.array([7,2,10,2,7,4,9,4,9,8])\n",
    "print('a=',a)\n",
    "print('b=',b)\n",
    "print('Vị trí các phần tử trùng nhau của a và b')\n",
    "print(np.where(a == b)[0])\n",
    "print('Lấy phần tử trong a thuộc đoạn [4;6]')\n",
    "index = np.where((a >= 4) & (a <= 6))\n",
    "print(a[index])\n",
    "# print(a[(a>=4) & (a<=6)]) # Cách khác\n",
    "a = a.reshape([-1, 2])\n",
    "print('a=\\n', a)\n",
    "print('Đổi vị trí cột trong a')\n",
    "print(a[:, [1,0]])\n"
   ]
  },
  {
   "cell_type": "code",
   "execution_count": 112,
   "metadata": {},
   "outputs": [
    {
     "name": "stdout",
     "output_type": "stream",
     "text": [
      "[[ 0  1  2  3]\n",
      " [ 4  5  6  7]\n",
      " [ 8  9 10 11]]\n",
      "nditer duyệt các phần tử trong ma trận\n",
      "0, 1, 2, 3, 4, 5, 6, 7, 8, 9, 10, 11, "
     ]
    }
   ],
   "source": [
    "a = np.arange(12); a = a.reshape(3,4);\n",
    "print(a)\n",
    "print('nditer duyệt các phần tử trong ma trận')\n",
    "for x in np.nditer(a): print(x, end=', ')"
   ]
  },
  {
   "cell_type": "code",
   "execution_count": 69,
   "metadata": {},
   "outputs": [
    {
     "name": "stdout",
     "output_type": "stream",
     "text": [
      "a = [0, 1.5707963267948966, 1.0471975511965976, 3.141592653589793]\n",
      "Sin: [0.00000000e+00 1.00000000e+00 8.66025404e-01 1.22464680e-16]\n",
      "Arcsin: [0.00000000e+00 1.57079633e+00 1.04719755e+00 1.22464680e-16]\n",
      "Cos: [ 1.000000e+00  6.123234e-17  5.000000e-01 -1.000000e+00]\n",
      "Tan: [ 0.00000000e+00  1.63312394e+16  1.73205081e+00 -1.22464680e-16]\n",
      "Tanh: [0.         0.91715234 0.78071444 0.99627208]\n",
      "\n",
      "Chuyển radian sang độ\n",
      "radian:  [0.         0.52359878 1.04719755 1.57079633 2.0943951  2.61799388]\n",
      "độ:  [  0.  30.  60.  90. 120. 150.]\n",
      "Chuyển từ độ thành radian\n",
      "[0.         0.52359878 1.04719755 1.57079633 2.0943951  2.61799388]\n"
     ]
    }
   ],
   "source": [
    "# lượng giác\n",
    "a = [0, np.pi / 2, np.pi / 3, np.pi]\n",
    "print('a =', a)\n",
    "print('Sin:', np.sin(a))\n",
    "print('Arcsin:', np.arcsin(np.sin(a)))\n",
    "print('Cos:', np.cos(a))\n",
    "print('Tan:', np.tan(a))\n",
    "print('Tanh:', np.tanh(a))\n",
    "print('\\nChuyển radian sang độ')\n",
    "rad = np.arange(6)*np.pi/6 # 0=0 độ; pi/6=30 độ; pi/3=50 độ; pi/2=90 độ; 2pi/3=120 độ; 5pi/6=150 độ; pi=180 độ....\n",
    "print('radian: ', rad)\n",
    "radToDeg = np.degrees(rad)\n",
    "print('độ: ', radToDeg)\n",
    "# print(np.rad2deg(rad)) #Cách khác: rad2deg\n",
    "print('Chuyển từ độ thành radian')\n",
    "degToRad = np.deg2rad(radToDeg)\n",
    "print(degToRad)"
   ]
  },
  {
   "cell_type": "code",
   "execution_count": 86,
   "metadata": {},
   "outputs": [
    {
     "name": "stdout",
     "output_type": "stream",
     "text": [
      "a= [-1.72 -1.58 -0.2   0.2   0.5   1.5   1.7   2.  ]\n",
      "Làm tròn round:  [-1.7 -1.6 -0.2  0.2  0.5  1.5  1.7  2. ]\n",
      "Làm tròn rint:  [-2. -2. -0.  0.  0.  2.  2.  2.]\n",
      "Làm tròn ceil: [-1. -1. -0.  1.  1.  2.  2.  2.]\n",
      "Làm tròn floor: [-2. -2. -1.  0.  0.  1.  1.  2.]\n",
      "Làm tròn trunc: [-1. -1. -0.  0.  0.  1.  1.  2.]\n"
     ]
    }
   ],
   "source": [
    "# round : Làm tròn về số gần nhất, tùy chỉnh phần thập phân\n",
    "a = np.array([-1.72, -1.58, -0.2, 0.2, 0.5, 1.5, 1.7, 2.0])\n",
    "print('a=',a)\n",
    "print('Làm tròn round: ', np.round(a, decimals=1))\n",
    "# rint: làm tròn về số nguyên gần nhất\n",
    "print('Làm tròn rint: ', np.rint(a))\n",
    "# ceil: làm tròn lên (làm tròn về chiều dương vô cùng)\n",
    "print('Làm tròn ceil:', np.ceil(a))\n",
    "# floor: làm tròn xuống (làm tròn về chiều âm vô cùng)\n",
    "print('Làm tròn floor:', np.floor(a))\n",
    "# trunc: Làm tròn về 0\n",
    "print('Làm tròn trunc:', np.trunc(a))"
   ]
  },
  {
   "cell_type": "code",
   "execution_count": 91,
   "metadata": {},
   "outputs": [
    {
     "name": "stdout",
     "output_type": "stream",
     "text": [
      "[  6.3890561   19.08553692  53.59815003 147.4131591 ]\n",
      "[ 4.  8. 16. 32.]\n",
      "[0.30103    0.47712125 0.60205999 0.69897   ]\n",
      "[1.         1.5849625  2.         2.32192809]\n",
      "[1.09861229 1.38629436 1.60943791 1.79175947]\n"
     ]
    }
   ],
   "source": [
    "a = np.array([2, 3, 4, 5])\n",
    "print(np.expm1(a)) # e^x - 1 x thuộc a\n",
    "print(np.exp2(a)) # 2^x x thuộc a\n",
    "print(np.log10(a)) #log10(x) x thuộc a\n",
    "print(np.log2(a)) #log2(x) x thuộc a\n",
    "print(np.log1p(a)) #log(1 + x) x thuộc a"
   ]
  },
  {
   "cell_type": "code",
   "execution_count": 15,
   "metadata": {},
   "outputs": [
    {
     "name": "stdout",
     "output_type": "stream",
     "text": [
      "[1.  2.5 4.  1.5]\n",
      "full  [1.  2.5 4.  1.5]\n",
      "same  [1.  2.5 4. ]\n",
      "valid  [2.5 4. ]\n"
     ]
    }
   ],
   "source": [
    "# convolve: Tính tích chập rời rạc, tuyến tính của hai ma trận 1 chiều.\n",
    "print(np.convolve([1, 2, 3], [1, 0.5]))\n",
    "#     1         2         3                1       2      3\n",
    "#1   1x1       1x2      1x3         1      1       2      3\n",
    "#0.5 0.5x1   0.5x2    0.5x3        0.5    0.5      1     1.5\n",
    "\n",
    "#ketqua = [1x1;    1x2 + 0.5x1;    1x3 + 0.5x2;     0.5x3]\n",
    "#       = [1; 2.5; 4; 1.5]\n",
    "\n",
    "# Tham số mode='full': kết quả là tích chập có kích thước (m+n-1), m là kích thước ma trận 1, n kích thước ma trận 2.\n",
    "print('full ', np.convolve([1,2,3],[1,0.5], mode='full'))\n",
    "# Tham số mode='same': kết quả có kích thước max(m, n)\n",
    "print('same ', np.convolve([1,2,3],[1,0.5], mode='same'))\n",
    "# Tham số mode='valid': kết quả có kích thước max(m, n) - min(m, n) + 1\n",
    "print('valid ', np.convolve([1,2,3],[1,0.5], mode='valid'))"
   ]
  },
  {
   "cell_type": "code",
   "execution_count": 20,
   "metadata": {},
   "outputs": [
    {
     "name": "stdout",
     "output_type": "stream",
     "text": [
      "[1. 2. 3.]\n",
      "[2.+0.j 0.+1.j 1.+2.j]\n",
      "[ 2. nan inf]\n",
      "[-1.+0.j  1.+0.j  4.+0.j]\n",
      "1.0\n",
      "[ 1 -1  1]\n"
     ]
    },
    {
     "name": "stderr",
     "output_type": "stream",
     "text": [
      "<ipython-input-20-38aaee09cd97>:4: RuntimeWarning: invalid value encountered in sqrt\n",
      "  print(np.sqrt([4, -1, np.inf]))\n"
     ]
    }
   ],
   "source": [
    "# Căn bậc 2 số dương.\n",
    "print(np.sqrt([1,4,9]))\n",
    "print(np.sqrt([4, -1, -3+4J]))\n",
    "print(np.sqrt([4, -1, np.inf]))\n",
    "# Bình phương\n",
    "print(np.square([-1j, 1, 2]))\n",
    "# Trị tuyệt đối, kết quả là float\n",
    "print(np.fabs(-1))\n",
    "# Dấu của phần tử\n",
    "print(np.sign(np.array([1,-4,9])))\n"
   ]
  },
  {
   "cell_type": "code",
   "execution_count": 21,
   "metadata": {},
   "outputs": [
    {
     "name": "stdout",
     "output_type": "stream",
     "text": [
      "[ 1.79769313e+308 -1.79769313e+308  0.00000000e+000]\n"
     ]
    }
   ],
   "source": [
    "# Thay số NaN = 0.0\n",
    "# Thay số infinity bằng 1 số lớn\n",
    "print(np.nan_to_num([np.inf, -np.inf, np.nan]))"
   ]
  },
  {
   "cell_type": "code",
   "execution_count": 22,
   "metadata": {},
   "outputs": [
    {
     "name": "stdout",
     "output_type": "stream",
     "text": [
      "[0.  0.5 1. ]\n",
      "[0. 1. 1.]\n"
     ]
    }
   ],
   "source": [
    "# Hàm heaviside\n",
    "print(np.heaviside([-1.5, 0, 2.0], 0.5))\n",
    "print(np.heaviside([-1.5, 0, 2.0], 1))"
   ]
  },
  {
   "cell_type": "code",
   "execution_count": 71,
   "metadata": {},
   "outputs": [
    {
     "name": "stdout",
     "output_type": "stream",
     "text": [
      "Chữ thường:  ['abc' 'aoa']\n",
      "Chữ hoa:  ['ABC' 'AOA']\n",
      "Tách:  ['Đây là một chuỗi', ' abc.']\n",
      "Nối vào chuỗi \"aaa\" ký tự chia \"-\" các phần tử của chuỗi,  a-a-a\n",
      "['a-a-a' 'b_b_b']\n",
      "Bỏ khoảng trắng đầu và cuối chuỗi: a end.\n",
      "Bỏ khoảng trắng trái: a   \n",
      "Bỏ khoảng trắng phải:    a\n",
      "Viết hoa chữ cái đầu,  Aaa\n",
      "Sao chép chuỗi thêm ký tự (mặc định là khoảng trắng) vào 2 bên theo độ rộng cho trước\n",
      "_______________________aba________________________\n",
      "aba_______________________________________________\n",
      "_______________________________________________aba\n",
      "Cắt khi găp ký tự sep đầu tiên: ['a' ';' 'b;c']\n",
      "Cắt khi gặp ký tự sep cuối cùng: ['a;b;c;da' ';' '123']\n",
      "Tạo chuỗi mới, viết hoa chữ cái đầu trong từ\n",
      "Nguyễn A, Văn A\n",
      "Đếm chuỗi con trong chuỗi cho trước\n",
      "a =  Một hai ba một\n",
      "Đếm chuỗi con \"Một\":  1\n",
      "Đếm chuỗi con \"ột\":  2\n",
      "Lấy vị trí chuỗi con cuối cùng, nếu không có trả về -1\n",
      "Vị trí \"ột\" cuối cùng: 12\n",
      "Kiểm tra chuỗi có phải số không\n",
      "123 là số? True\n",
      "abc là số? False\n"
     ]
    }
   ],
   "source": [
    "# String\n",
    "print('Chữ thường: ', np.char.lower(['ABC', 'aOa']))\n",
    "print('Chữ hoa: ', np.char.upper(['ABC', 'aOa']))\n",
    "print('Tách: ', np.char.split('Đây là một chuỗi, abc.', sep = ','))\n",
    "print('Nối vào chuỗi \"aaa\" ký tự chia \"-\" các phần tử của chuỗi, ', np.char.join('-', 'aaa'))\n",
    "print(np.char.join(['-', '_'], ['aaa', 'bbb']))\n",
    "print('Bỏ khoảng trắng đầu và cuối chuỗi:', np.char.strip('   a   '), 'end.')\n",
    "print('Bỏ khoảng trắng trái:', np.char.lstrip('   a   '))\n",
    "print('Bỏ khoảng trắng phải:', np.char.rstrip('   a   '))\n",
    "print('Viết hoa chữ cái đầu, ', np.char.capitalize('aaa'))\n",
    "print('Sao chép chuỗi thêm ký tự (mặc định là khoảng trắng) vào 2 bên theo độ rộng cho trước')\n",
    "print(np.char.center('aba', width=50, fillchar='_'))\n",
    "print(np.char.ljust('aba', width=50, fillchar='_'))\n",
    "print(np.char.rjust('aba', width=50, fillchar='_'))\n",
    "print('Cắt khi găp ký tự sep đầu tiên:', np.char.partition('a;b;c', sep=';'))\n",
    "print('Cắt khi gặp ký tự sep cuối cùng:', np.char.rpartition('a;b;c;da;123', sep=';'))\n",
    "print('Tạo chuỗi mới, viết hoa chữ cái đầu trong từ')\n",
    "print(np.char.title('nguyễn a, văn a'))\n",
    "print('Đếm chuỗi con trong chuỗi cho trước')\n",
    "a='Một hai ba một'\n",
    "print('a = ', a)\n",
    "print('Đếm chuỗi con \"Một\": ', np.char.count(a, 'Một'))\n",
    "print('Đếm chuỗi con \"ột\": ', np.char.count(a, 'ột'))\n",
    "print('Lấy vị trí chuỗi con cuối cùng, nếu không có trả về -1')\n",
    "print('Vị trí \"ột\" cuối cùng:', np.char.rfind(a, 'ột'))\n",
    "print('Kiểm tra chuỗi có phải số không')\n",
    "print('123 là số?', np.char.isnumeric('123'))\n",
    "print('abc là số?', np.char.isnumeric('abc'))\n"
   ]
  },
  {
   "cell_type": "code",
   "execution_count": 5,
   "metadata": {},
   "outputs": [
    {
     "name": "stdout",
     "output_type": "stream",
     "text": [
      "-1\n"
     ]
    },
    {
     "ename": "ValueError",
     "evalue": "substring not found",
     "output_type": "error",
     "traceback": [
      "\u001b[1;31m---------------------------------------------------------------------------\u001b[0m",
      "\u001b[1;31mValueError\u001b[0m                                Traceback (most recent call last)",
      "\u001b[1;32m<ipython-input-5-76bec170562d>\u001b[0m in \u001b[0;36m<module>\u001b[1;34m\u001b[0m\n\u001b[0;32m      2\u001b[0m \u001b[0mprint\u001b[0m\u001b[1;33m(\u001b[0m\u001b[0mnp\u001b[0m\u001b[1;33m.\u001b[0m\u001b[0mchar\u001b[0m\u001b[1;33m.\u001b[0m\u001b[0mfind\u001b[0m\u001b[1;33m(\u001b[0m\u001b[1;34m'Day la mot chuoi la'\u001b[0m\u001b[1;33m,\u001b[0m \u001b[0msub\u001b[0m\u001b[1;33m=\u001b[0m\u001b[1;34m'la'\u001b[0m\u001b[1;33m,\u001b[0m \u001b[0mstart\u001b[0m\u001b[1;33m=\u001b[0m\u001b[1;36m18\u001b[0m\u001b[1;33m)\u001b[0m\u001b[1;33m)\u001b[0m \u001b[1;31m# start vị trí ký tự bắt đầu tìm\u001b[0m\u001b[1;33m\u001b[0m\u001b[1;33m\u001b[0m\u001b[0m\n\u001b[0;32m      3\u001b[0m \u001b[1;31m# Tìm vị trí đầu tiên của chuỗi con\u001b[0m\u001b[1;33m\u001b[0m\u001b[1;33m\u001b[0m\u001b[1;33m\u001b[0m\u001b[0m\n\u001b[1;32m----> 4\u001b[1;33m \u001b[0mprint\u001b[0m\u001b[1;33m(\u001b[0m\u001b[0mnp\u001b[0m\u001b[1;33m.\u001b[0m\u001b[0mchar\u001b[0m\u001b[1;33m.\u001b[0m\u001b[0mindex\u001b[0m\u001b[1;33m(\u001b[0m\u001b[1;34m'Day la mot chuoi la'\u001b[0m\u001b[1;33m,\u001b[0m \u001b[0msub\u001b[0m\u001b[1;33m=\u001b[0m\u001b[1;34m'la'\u001b[0m\u001b[1;33m,\u001b[0m \u001b[0mstart\u001b[0m\u001b[1;33m=\u001b[0m\u001b[1;36m18\u001b[0m\u001b[1;33m)\u001b[0m\u001b[1;33m)\u001b[0m \u001b[1;31m# start vị trí ký tự bắt đầu tìm\u001b[0m\u001b[1;33m\u001b[0m\u001b[1;33m\u001b[0m\u001b[0m\n\u001b[0m",
      "\u001b[1;32m<__array_function__ internals>\u001b[0m in \u001b[0;36mindex\u001b[1;34m(*args, **kwargs)\u001b[0m\n",
      "\u001b[1;32m~\\anaconda3\\lib\\site-packages\\numpy\\core\\defchararray.py\u001b[0m in \u001b[0;36mindex\u001b[1;34m(a, sub, start, end)\u001b[0m\n\u001b[0;32m    748\u001b[0m \u001b[1;33m\u001b[0m\u001b[0m\n\u001b[0;32m    749\u001b[0m     \"\"\"\n\u001b[1;32m--> 750\u001b[1;33m     return _vec_string(\n\u001b[0m\u001b[0;32m    751\u001b[0m         a, integer, 'index', [sub, start] + _clean_args(end))\n\u001b[0;32m    752\u001b[0m \u001b[1;33m\u001b[0m\u001b[0m\n",
      "\u001b[1;31mValueError\u001b[0m: substring not found"
     ]
    }
   ],
   "source": [
    "# Trả về index đầu tiên của chuỗi con trong chuỗi khác.\n",
    "print(np.char.find('Day la mot chuoi la', sub='la', start=18)) # start vị trí ký tự bắt đầu tìm\n",
    "# Tìm vị trí đầu tiên của chuỗi con\n",
    "print(np.char.index('Day la mot chuoi la', sub='la', start=18)) # start vị trí ký tự bắt đầu tìm\n",
    "# find: không tìm thấy return -1\n",
    "# index: không tìm thấy báo lỗi"
   ]
  },
  {
   "cell_type": "code",
   "execution_count": 11,
   "metadata": {},
   "outputs": [
    {
     "name": "stdout",
     "output_type": "stream",
     "text": [
      "[ True False]\n"
     ]
    }
   ],
   "source": [
    "# Kiểm tra chuỗi có phải CHỈ CHỨA ký tự alphabet không\n",
    "print(np.char.isalpha(np.array(['abc', 'ds23'])))"
   ]
  },
  {
   "cell_type": "code",
   "execution_count": 20,
   "metadata": {},
   "outputs": [
    {
     "name": "stdout",
     "output_type": "stream",
     "text": [
      "[False  True]\n",
      "[ True False  True False]\n"
     ]
    }
   ],
   "source": [
    "# Chuỗi CHỈ CÓ số\n",
    "print(np.char.isdecimal(np.array(['\\u00B2', '437682'])))\n",
    "print(np.char.isdigit(np.array(['\\u00B2', '', '12323', '+_+9423'])))"
   ]
  },
  {
   "cell_type": "code",
   "execution_count": 21,
   "metadata": {},
   "outputs": [
    {
     "name": "stdout",
     "output_type": "stream",
     "text": [
      "[ True False]\n"
     ]
    }
   ],
   "source": [
    "# Kiểm tra prefix của chuỗi.\n",
    "print(np.char.startswith(['mot hai ba', 'mbon nam sau'], prefix='mot'))"
   ]
  },
  {
   "cell_type": "code",
   "execution_count": 3,
   "metadata": {},
   "outputs": [
    {
     "name": "stdout",
     "output_type": "stream",
     "text": [
      "Hạng ma trận: 3\n",
      "\n",
      "Tổng đường chéo chính: -10\n",
      "\n",
      "Định thức ma trận: 14.999999999999993\n",
      "\n",
      "Nghịch đảo ma trận:\n",
      " [[0.73333333 0.66666667 0.2       ]\n",
      " [1.06666667 0.33333333 0.2       ]\n",
      " [0.66666667 0.33333333 0.        ]]\n",
      "\n",
      "Lũy thừa bậc 3 ma trận:\n",
      " [[ -19  -16   54]\n",
      " [   8  -43   54]\n",
      " [  68  202 -413]]\n",
      "[[ -19  -16   54]\n",
      " [   8  -43   54]\n",
      " [  68  202 -413]]\n"
     ]
    }
   ],
   "source": [
    "# linear Algebra\n",
    "A = np.array([[-1, 1, 1],\n",
    "              [2, -2, 1],\n",
    "              [2, 3, -7]])\n",
    "\n",
    "print(\"Hạng ma trận:\", np.linalg.matrix_rank(A))\n",
    "print(\"\\nTổng đường chéo chính:\", np.trace(A))\n",
    "print(\"\\nĐịnh thức ma trận:\", np.linalg.det(A))\n",
    "print(\"\\nNghịch đảo ma trận:\\n\", np.linalg.inv(A))\n",
    "print(\"\\nLũy thừa bậc 3 ma trận:\\n\",np.linalg.matrix_power(A, 3))# print(np.dot(A,np.dot(A, A)))"
   ]
  },
  {
   "cell_type": "code",
   "execution_count": 6,
   "metadata": {},
   "outputs": [
    {
     "name": "stdout",
     "output_type": "stream",
     "text": [
      "[[1 0 0]\n",
      " [0 2 0]\n",
      " [0 0 3]]\n",
      "Tri rieng: \n",
      " [1. 2. 3.]\n",
      " vector rieng: \n",
      " [[1. 0. 0.]\n",
      " [0. 1. 0.]\n",
      " [0. 0. 1.]]\n"
     ]
    }
   ],
   "source": [
    "# Trị riêng, vector riêng của ma trận vuông.\n",
    "from numpy import linalg\n",
    "a = np.diag((1,2,3))\n",
    "print(a)\n",
    "triRieng, vectorRieng = linalg.eig(a)\n",
    "print('Tri rieng: \\n {}\\n vector rieng: \\n {}'.format(triRieng, vectorRieng))"
   ]
  },
  {
   "cell_type": "code",
   "execution_count": 10,
   "metadata": {},
   "outputs": [
    {
     "name": "stdout",
     "output_type": "stream",
     "text": [
      "[[1 2]\n",
      " [4 6]]\n",
      "Trị riêng: [-0.27491722  7.27491722]\n"
     ]
    }
   ],
   "source": [
    "a = np.array([[1,2], [4,6]])\n",
    "print(a)\n",
    "print('Trị riêng: {}'.format(linalg.eigvals(a)))"
   ]
  },
  {
   "cell_type": "code",
   "execution_count": 25,
   "metadata": {},
   "outputs": [
    {
     "name": "stdout",
     "output_type": "stream",
     "text": [
      "a=\n",
      " [[1 0]\n",
      " [0 1]]\n",
      "b=\n",
      " [[4 1]\n",
      " [1 2]]\n",
      "c=\n",
      " [1 2]\n",
      "a x b = \n",
      " [[4 1]\n",
      " [1 2]]\n",
      "a x c = \n",
      " [1 2]\n"
     ]
    }
   ],
   "source": [
    "# matmul: nhân 2 ma trận\n",
    "a=np.array([[1,0],[0,1]])\n",
    "b=np.array([[4,1],[1,2]])\n",
    "c=np.array([1,2])\n",
    "print('a=\\n', a)\n",
    "print('b=\\n', b)\n",
    "print('c=\\n', c)\n",
    "print('a x b = \\n', np.matmul(a,b))\n",
    "print('a x c = \\n', np.matmul(a,c))\n",
    "# Tham số phải là array, không thể là một giá trị số."
   ]
  },
  {
   "cell_type": "code",
   "execution_count": 6,
   "metadata": {},
   "outputs": [
    {
     "name": "stdout",
     "output_type": "stream",
     "text": [
      "a=\n",
      " [0 1 2 3 4 5 6 7 8 9] (10,)\n",
      "b=\n",
      " [1. 1. 1. 1. 1. 1. 1. 1. 1. 1.] (10,)\n",
      "45.0\n"
     ]
    }
   ],
   "source": [
    "# nhân vô hướng 2 vector, không cần chuyển vị\n",
    "a = np.arange(10); b = np.ones(10)\n",
    "print('a=\\n', a, a.shape); print('b=\\n', b, b.shape)\n",
    "c = np.inner(a, b)\n",
    "print(c)\n",
    "# print(a.dot(b)) #45"
   ]
  },
  {
   "cell_type": "code",
   "execution_count": 10,
   "metadata": {},
   "outputs": [
    {
     "name": "stdout",
     "output_type": "stream",
     "text": [
      "[2. 3.]\n"
     ]
    }
   ],
   "source": [
    "# Giải hệ phương trình\n",
    "# 3 * x0 + x1 = 9\n",
    "# x0 + 2 * x1 = 8\n",
    "a = np.array([[3,1], [1,2]])\n",
    "b = np.array([9,8])\n",
    "print(np.linalg.solve(a, b))\n"
   ]
  },
  {
   "cell_type": "code",
   "execution_count": 21,
   "metadata": {},
   "outputs": [
    {
     "name": "stdout",
     "output_type": "stream",
     "text": [
      "a=\n",
      " [[0 1 2 3 4]\n",
      " [5 6 7 8 9]]\n",
      "16.881943016134134\n"
     ]
    }
   ],
   "source": [
    "# chuẩn tắc (norm)\n",
    "a = np.arange(0, 10).reshape(2,-1)\n",
    "print('a=\\n', a)\n",
    "print(np.linalg.norm(a))"
   ]
  },
  {
   "cell_type": "code",
   "execution_count": 22,
   "metadata": {},
   "outputs": [
    {
     "name": "stdout",
     "output_type": "stream",
     "text": [
      "a=\n",
      " [[ 1  0 -1]\n",
      " [ 0  1  0]\n",
      " [ 1  0  1]]\n",
      "1.4142135623730951\n",
      "3.1622776601683795\n",
      "2.0\n",
      "1.0\n",
      "2.0\n",
      "2.0\n",
      "1.4142135623730951\n",
      "0.7071067811865475\n"
     ]
    }
   ],
   "source": [
    "# Hệ số điều hòa của ma trận theo 7 chuẩn\n",
    "a = np.array([[1, 0, -1], [0, 1, 0], [1, 0, 1]])\n",
    "print('a=\\n', a)\n",
    "print(np.linalg.cond(a))\n",
    "# Chuẩn Frobenius\n",
    "print(np.linalg.cond(a, p='fro'))\n",
    "# Chuẩn infinity: max(sum(abs(x), axis=1))\n",
    "print(np.linalg.cond(a, np.inf))\n",
    "# Chuẩn -infinity: min(sum(abs(x), axis=1))\n",
    "print(np.linalg.cond(a, -np.inf))\n",
    "# Chuẩn 1: max(sum(abs(x), axis=0))\n",
    "print(np.linalg.cond(a, 1))\n",
    "# Chuẩn -1: min(sum(abs(x), axis=0))\n",
    "print(np.linalg.cond(a, 1))\n",
    "# Chuẩn 2: 2-norm (largest sing. value)\n",
    "print(np.linalg.cond(a, 2))\n",
    "# Chuẩn -2: smallest singular value\n",
    "print(np.linalg.cond(a, -2))\n"
   ]
  },
  {
   "cell_type": "code",
   "execution_count": 25,
   "metadata": {},
   "outputs": [
    {
     "data": {
      "text/plain": [
       "4"
      ]
     },
     "execution_count": 25,
     "metadata": {},
     "output_type": "execute_result"
    }
   ],
   "source": [
    "# Tính hạng ma trận bằng SVD\n",
    "from numpy.linalg import matrix_rank\n",
    "matrix_rank(np.eye(4)) # full rank matrix\n"
   ]
  },
  {
   "cell_type": "code",
   "execution_count": 27,
   "metadata": {},
   "outputs": [
    {
     "data": {
      "text/plain": [
       "3"
      ]
     },
     "execution_count": 27,
     "metadata": {},
     "output_type": "execute_result"
    }
   ],
   "source": [
    "I=np.eye(4); I[-1,-1] = 0 # rank deficient matrix\n",
    "matrix_rank(I)"
   ]
  },
  {
   "cell_type": "code",
   "execution_count": 28,
   "metadata": {},
   "outputs": [
    {
     "data": {
      "text/plain": [
       "1"
      ]
     },
     "execution_count": 28,
     "metadata": {},
     "output_type": "execute_result"
    }
   ],
   "source": [
    "matrix_rank(np.ones((4,))) # 1 dimension - rank 1 unless all\n"
   ]
  },
  {
   "cell_type": "code",
   "execution_count": 29,
   "metadata": {},
   "outputs": [
    {
     "data": {
      "text/plain": [
       "0"
      ]
     },
     "execution_count": 29,
     "metadata": {},
     "output_type": "execute_result"
    }
   ],
   "source": [
    "matrix_rank(np.zeros((4,)))"
   ]
  },
  {
   "cell_type": "code",
   "execution_count": 34,
   "metadata": {},
   "outputs": [
    {
     "name": "stdout",
     "output_type": "stream",
     "text": [
      "a=\n",
      " [[ 1.05628394  1.21191243 -0.3574374   0.35255984 -2.06978688 -1.54205058]\n",
      " [ 0.95413213  1.71592238 -0.59191388 -0.31827861 -0.13722866 -1.38853019]\n",
      " [ 0.67535796 -0.29030696 -0.51828539  0.97829756  0.34507919 -0.90547741]\n",
      " [-1.18645667 -0.2049199   1.15383003 -0.50156955 -0.28541611 -0.35283834]\n",
      " [-0.69481535  0.22716293 -0.19641276 -0.07999811  0.16891921  0.28023239]\n",
      " [-0.63290715  0.95741351 -1.42648357  0.14792255 -0.9064113   0.05868114]\n",
      " [-0.26436891  0.69643814  0.44631303  0.8263182  -0.62672884 -2.08605153]\n",
      " [ 0.9365629  -1.26466954  0.97655218  0.7171305  -0.5808806  -0.82846845]\n",
      " [-0.76855211  0.02119004 -0.89051515 -0.92916843 -1.38225911 -0.11865052]]\n",
      "True\n",
      "True\n"
     ]
    }
   ],
   "source": [
    "# Phân rã ma trận, \n",
    "a = np.random.randn(9, 6); print('a=\\n',a)\n",
    "q, r = np.linalg.qr(a)\n",
    "print(np.allclose(a, np.dot(q, r)))  # a == qr?\n",
    "\n",
    "r2 = np.linalg.qr(a, mode='r')\n",
    "print(np.allclose(r, r2))  # mode='r' returns the same r as mode='full'"
   ]
  },
  {
   "cell_type": "code",
   "execution_count": 37,
   "metadata": {},
   "outputs": [
    {
     "name": "stdout",
     "output_type": "stream",
     "text": [
      "[[0 1]\n",
      " [1 1]\n",
      " [1 1]\n",
      " [2 1]]\n",
      "[6.66133815e-16 1.00000000e+00]\n"
     ]
    }
   ],
   "source": [
    "A = np.array([[0, 1], [1, 1], [1, 1], [2, 1]])\n",
    "print(A)\n",
    "b = np.array([1, 0, 2, 1])\n",
    "q, r = np.linalg.qr(A)\n",
    "p = np.dot(q.T, b)\n",
    "print(np.dot(np.linalg.inv(r), p))"
   ]
  },
  {
   "cell_type": "code",
   "execution_count": 39,
   "metadata": {},
   "outputs": [],
   "source": [
    "# Phương pháp SVD: Single Value Decomposition\n",
    "# https://machinelearningcoban.com/2017/06/07/svd/#-gioi-thieu\n",
    "# numpy.linalg.svd"
   ]
  },
  {
   "cell_type": "code",
   "execution_count": 40,
   "metadata": {},
   "outputs": [
    {
     "name": "stdout",
     "output_type": "stream",
     "text": [
      "a=\n",
      " [[ 0.06992513-1.22527635j -0.66745211+0.19181073j -0.97434522+0.00868258j\n",
      "  -1.22087473+0.7935168j   0.9634378 +0.09619492j -0.20088255-1.45226871j]\n",
      " [-1.70253479+0.87112199j  0.51185161+0.88017413j  0.62996049+1.58441624j\n",
      "   1.89908112+0.44924839j  0.46375837+0.15133701j  0.91837315+0.04389913j]\n",
      " [-1.03945626+1.30857744j  1.10031074+1.08707202j -0.23472365-0.61448766j\n",
      "  -0.42367722+0.08062841j  0.92980882+1.24431682j  0.12146326+1.16654478j]\n",
      " [ 0.80354361-0.48042961j  0.34392851-0.41419405j -0.97324117+0.26378514j\n",
      "   0.62086795-0.28155389j -1.14296935-0.04541786j -0.65747005+1.15020257j]\n",
      " [-0.04273506+0.42536492j -0.37577948+0.7017154j   0.39748837-1.34232813j\n",
      "   0.5957372 +0.33103146j  0.17397394-1.6725983j   0.12656173+1.38245097j]\n",
      " [-0.192237  -0.38769153j -2.07859736+1.05717293j -0.58408887-1.21768981j\n",
      "   0.46679269-0.21930623j  0.97584711+0.11034817j  1.32083221+0.28450339j]\n",
      " [ 1.45605597-0.02632621j  1.95296658-1.01487596j -0.7034666 +1.15331997j\n",
      "  -0.08435152-2.73600323j -0.90773185-1.02246694j -0.50002996-1.88614244j]\n",
      " [-0.32263052-0.49400712j  0.49742811-1.95201683j -0.78289817+0.05020106j\n",
      "  -0.22854601+0.63762837j -0.13882205+1.58551604j  1.72601955+0.3304599j ]\n",
      " [-0.09507549-1.66471429j  0.05414499-0.61979713j  0.47670049-0.83763155j\n",
      "  -0.40620688+0.74255566j  2.01235263+1.47155675j -0.67959391-0.26121859j]]\n",
      "b=\n",
      " [[[[ 2.50825867e-01+0.58042159j -2.71798796e-01-1.5489842j\n",
      "    -2.10044568e-01+0.66997344j]\n",
      "   [-9.59086371e-01+0.0178277j   8.12742700e-02-3.14435359j\n",
      "    -6.76573693e-01+0.17405852j]\n",
      "   [ 7.28068341e-02-1.06241199j -1.40281539e+00-0.139766j\n",
      "     8.95276516e-01-0.04906409j]\n",
      "   [ 1.74663836e+00+0.08795723j -1.06723196e+00+0.66163227j\n",
      "     1.26599562e-01-1.34636593j]\n",
      "   [-8.45247570e-01+0.55928684j  1.46054916e+00+0.51268417j\n",
      "    -1.10234945e+00-1.23793756j]\n",
      "   [-1.67567504e-01-1.49825974j -2.24128052e+00+0.64601135j\n",
      "    -8.07704224e-01+0.07251036j]\n",
      "   [ 4.16485591e-01+1.87884087j -3.89525761e-01-0.44398993j\n",
      "    -2.81482530e+00-0.58112428j]\n",
      "   [ 2.36046742e-01-0.94781772j -4.71640408e-01-1.82659116j\n",
      "    -1.07941744e+00+0.391129j  ]]\n",
      "\n",
      "  [[-1.43129795e+00+2.10327383j  3.03085223e-01+1.43476457j\n",
      "     1.02254923e+00+1.49973073j]\n",
      "   [ 4.02192681e-01-1.19155707j -2.28705280e+00-1.32506913j\n",
      "     9.43336272e-01+1.63171718j]\n",
      "   [ 5.45404363e-01+0.39281659j -7.74746551e-01+0.82631472j\n",
      "    -3.86683460e-01-0.02675743j]\n",
      "   [-3.44394337e-01+0.16884976j  1.30512311e+00-0.12625154j\n",
      "     1.47555685e+00-0.48096847j]\n",
      "   [-4.22083943e-01-0.6742992j   1.26173377e-01+1.83994775j\n",
      "    -5.88355747e-01-0.1047012j ]\n",
      "   [-2.30408444e-01-0.30388838j -1.80336343e+00-0.03913451j\n",
      "     5.37842892e-01-0.2384231j ]\n",
      "   [ 1.54699047e+00+1.76846158j  1.95411680e-01-1.80920771j\n",
      "     1.34306253e+00-1.54387471j]\n",
      "   [-1.39377622e+00+1.27032382j  9.88661667e-01+0.01880824j\n",
      "     2.14361909e-01+2.43239291j]]\n",
      "\n",
      "  [[ 5.28814427e-01-0.26014576j  1.61130317e-01+0.44673948j\n",
      "    -1.70712931e+00+0.49005835j]\n",
      "   [-1.06965591e+00-1.54799115j -8.48002146e-01-0.36392832j\n",
      "    -1.26058226e-01-0.13545258j]\n",
      "   [ 1.22256952e+00-0.62626106j -7.20380735e-01-0.25939352j\n",
      "     3.24109001e-01+0.22841821j]\n",
      "   [ 9.29462468e-01+1.05750583j  6.95883033e-01-0.2514513j\n",
      "    -2.93524123e-01-0.34473392j]\n",
      "   [ 8.14324087e-01+0.58135831j  7.97684592e-02+1.08947187j\n",
      "    -7.28664005e-01-0.12519108j]\n",
      "   [-1.16575526e+00+2.21650501j -3.53345234e-01-1.47446972j\n",
      "    -1.54016207e+00-1.35195378j]\n",
      "   [ 1.23989269e-01+1.24775454j  5.90087970e-03-0.80552377j\n",
      "    -3.09050691e-01+1.13791569j]\n",
      "   [-6.36087023e-01+0.89828766j  4.82441827e-01+0.59030697j\n",
      "    -2.47997243e+00+0.1930784j ]]\n",
      "\n",
      "  [[-1.32435686e+00-0.35163738j -1.75184399e+00+2.06912909j\n",
      "     1.69793632e+00+0.55055578j]\n",
      "   [ 1.18242438e+00-1.41983918j -7.28312292e-01+0.73739926j\n",
      "     2.57337490e+00-0.27032313j]\n",
      "   [-6.61378622e-03-0.68010858j  1.01977326e+00+0.09138265j\n",
      "     2.03023117e-02-0.76462066j]\n",
      "   [-4.28234137e-01-1.94095559j  7.05082627e-01-0.57992939j\n",
      "    -1.16830355e+00+0.25699239j]\n",
      "   [-8.18717105e-01-0.80432291j -1.01032555e+00+0.26888377j\n",
      "    -1.03800370e-01-1.03340685j]\n",
      "   [ 8.54475196e-01-0.47924361j -3.31253248e-01+0.0113512j\n",
      "    -1.03681599e+00-0.73082331j]\n",
      "   [ 1.16523913e+00-1.08417602j -7.83942405e-01-0.15084237j\n",
      "    -7.57771566e-01-0.57243358j]\n",
      "   [ 4.27510294e-01-0.43759282j  5.83666978e-01+0.07676361j\n",
      "    -2.06639229e+00+0.28719574j]]\n",
      "\n",
      "  [[-2.66055740e-01-0.62896733j  5.25690583e-01-1.72987635j\n",
      "     6.06227448e-01+1.02058628j]\n",
      "   [ 1.60611571e-01+0.57610306j  5.86110695e-02-1.94702793j\n",
      "    -3.35112146e-01+0.1284489j ]\n",
      "   [-9.47951790e-02+0.53842186j -4.85894664e-01-0.76982415j\n",
      "    -1.27345714e+00+0.28597313j]\n",
      "   [ 1.19424277e+00+1.09743605j  1.60285583e+00-0.49313642j\n",
      "    -3.09098576e-01-0.43125562j]\n",
      "   [-5.52001299e-02-1.20041147j  4.00971728e-01-0.0245594j\n",
      "     5.99459441e-01+0.57697j   ]\n",
      "   [ 1.11525521e-01-0.68235342j -2.19937216e+00-0.70300098j\n",
      "     8.46243425e-01-0.59094245j]\n",
      "   [-6.05396192e-01-0.60343246j -2.34185696e-01-0.01349676j\n",
      "     2.68283577e-01+0.20804574j]\n",
      "   [-2.14423216e+00+0.88658853j  1.38698062e+00-0.0901138j\n",
      "     3.03902121e-01+0.95450422j]]\n",
      "\n",
      "  [[-4.43842154e-01+0.31742929j -2.84216444e-01+0.42837645j\n",
      "     1.92058113e-01+0.24372214j]\n",
      "   [ 3.60453595e-01-1.38724221j -2.57272677e-01-1.90429618j\n",
      "     9.22972983e-01-1.64245796j]\n",
      "   [-9.98773747e-02-0.52080358j  9.78335443e-01+1.11090117j\n",
      "    -4.36972108e-01-0.86306447j]\n",
      "   [ 2.66079907e-01+0.75624088j -1.27857070e+00+0.62088094j\n",
      "    -1.11412032e+00-0.30015652j]\n",
      "   [ 5.30258568e-01-0.91893216j -2.31765506e-02+0.70756493j\n",
      "    -4.37107569e-01+0.43419583j]\n",
      "   [ 1.61891251e+00+0.8218576j  -1.24504742e+00+0.44994123j\n",
      "    -2.67856282e+00-0.82765113j]\n",
      "   [-6.77978961e-01-0.8380488j   1.20922726e-01+0.30077049j\n",
      "    -3.25658077e-01+1.09453698j]\n",
      "   [-9.01278544e-01-0.15735059j -1.06668022e+00+0.64225656j\n",
      "    -1.52021731e+00+0.41647085j]]\n",
      "\n",
      "  [[ 1.27736574e+00+0.48305563j  2.27936922e+00-0.46252628j\n",
      "    -6.86497130e-02+0.06098939j]\n",
      "   [ 9.12442450e-01+0.02764749j  7.72322245e-01+1.00364931j\n",
      "     5.05617294e-02+0.30042714j]\n",
      "   [-3.17199159e-02-0.06350524j  5.60424959e-01+0.34147846j\n",
      "     2.76165404e+00-1.03526092j]\n",
      "   [ 9.81642613e-01-0.87123937j  2.13842904e+00+0.9903418j\n",
      "    -1.22484630e+00-0.40537595j]\n",
      "   [ 1.05570033e-02-1.22673834j -8.63021096e-01-0.60260861j\n",
      "     3.25824119e-01-0.50062212j]\n",
      "   [-2.04519348e-01+1.84252012j -1.24651404e+00+0.15305783j\n",
      "     1.83770493e+00-0.46180864j]\n",
      "   [ 5.22314069e-01-0.70353841j -2.72109132e-01+0.58670868j\n",
      "     7.53208903e-01+0.12794021j]\n",
      "   [-5.40808873e-03+1.56045816j -6.84982751e-01+1.89743829j\n",
      "    -9.18937289e-01-0.28718133j]]]\n",
      "\n",
      "\n",
      " [[[-1.82299764e-01+0.19328054j  9.83253907e-01-0.65527501j\n",
      "     1.26802143e+00-0.39920321j]\n",
      "   [-3.98519156e-01+0.48778306j  1.66618937e-01-0.79954915j\n",
      "    -7.80873810e-01+0.31208851j]\n",
      "   [ 3.53434474e-01+0.20070488j  6.08841171e-01-2.11166939j\n",
      "     1.39395318e+00-0.78606115j]\n",
      "   [ 5.50448573e-01-0.64490393j  5.39620438e-01+1.47609123j\n",
      "    -6.57349190e-01+1.64293628j]\n",
      "   [ 4.81733250e-01-0.43428005j  1.23459234e+00+0.3413956j\n",
      "    -3.01733067e-01+0.58364649j]\n",
      "   [-4.36914691e-01-0.66588629j -1.06016643e-01-0.51815424j\n",
      "     9.97921633e-01+1.0181225j ]\n",
      "   [ 8.65556904e-01-0.25968726j -7.76800651e-01+0.10630816j\n",
      "    -4.48341560e-01+0.2644616j ]\n",
      "   [-7.91934521e-01+1.9894559j   2.80689034e-01+1.04310992j\n",
      "    -6.02585657e-01+1.0572227j ]]\n",
      "\n",
      "  [[ 5.93306490e-01+0.41218086j -6.37895896e-01-0.15647684j\n",
      "     1.35742984e+00-1.60602355j]\n",
      "   [-1.33646098e+00+1.09689944j -6.29298822e-01+0.6376556j\n",
      "    -1.14135574e+00-0.22205284j]\n",
      "   [-1.26046791e+00-0.23107603j -2.22110945e+00-0.54695134j\n",
      "    -3.48978829e-01-0.6195559j ]\n",
      "   [-1.07375137e+00-0.07851497j -7.90725674e-02-0.93097982j\n",
      "     6.31616930e-01+1.36136862j]\n",
      "   [ 7.34032248e-01-0.24662532j -9.28868852e-01-0.49834496j\n",
      "     2.05056179e-01+0.09641685j]\n",
      "   [ 1.05535711e+00-0.42448184j -7.19405765e-01+0.04819705j\n",
      "     2.49614931e-01-0.61618138j]\n",
      "   [ 1.10984132e+00+1.21525233j -7.75835773e-01-2.38306504j\n",
      "    -1.20903364e+00-1.32190657j]\n",
      "   [-1.61351126e-01+0.66698972j  1.42212425e+00-0.80251134j\n",
      "    -5.48436464e-01-1.0990562j ]]\n",
      "\n",
      "  [[ 4.45875361e-01-0.00802174j  4.69231081e-01+0.02944912j\n",
      "     3.79658067e-01+1.33570143j]\n",
      "   [-3.08243703e-01+1.1080322j  -7.65826773e-01-2.0548797j\n",
      "    -9.76698507e-01-1.07121038j]\n",
      "   [ 1.73081395e+00+0.44707108j  1.56413586e+00-0.45106826j\n",
      "    -1.51007341e-01+1.03536555j]\n",
      "   [ 7.56628434e-01-0.06036921j -9.72215259e-01+0.76219803j\n",
      "     8.31863200e-01+0.64743984j]\n",
      "   [-6.72316029e-01-0.47762321j -1.19260558e+00+1.06713585j\n",
      "     4.42068963e-01-1.01541336j]\n",
      "   [ 1.12676093e+00-0.41111745j  3.02236391e-01-0.55566455j\n",
      "     1.08249194e-02-0.5298714j ]\n",
      "   [ 2.88970986e-01+0.13460696j -1.33462454e+00+0.36783985j\n",
      "    -7.70215707e-01-0.49391396j]\n",
      "   [ 1.17048577e+00+0.22828031j -6.04544146e-02-0.02393468j\n",
      "     4.41386473e-01+0.56333931j]]\n",
      "\n",
      "  [[ 2.99974528e-01-1.14587216j  2.42743020e-01+1.08845567j\n",
      "    -4.64807612e-01-0.97842385j]\n",
      "   [ 9.09057454e-01-0.71641518j -2.28266543e+00+0.13604284j\n",
      "     1.39957871e-01+0.55681273j]\n",
      "   [-1.19941773e+00+0.46033507j  8.63126643e-02+0.43669913j\n",
      "    -1.33978322e+00+0.18441264j]\n",
      "   [ 7.88436986e-01+0.83330212j  1.13302430e+00-0.16133555j\n",
      "     1.31093384e-02+1.89100092j]\n",
      "   [ 9.85513069e-01+0.76282016j  1.62727203e-03-1.26874926j\n",
      "    -1.05104679e+00-0.71436091j]\n",
      "   [ 1.73302169e+00+0.61428164j  6.15137225e-01-0.78139508j\n",
      "    -9.58257563e-01+1.64410559j]\n",
      "   [-6.14107956e-01+1.45100897j  1.39017268e+00+0.10865477j\n",
      "     1.15881010e-01+0.36548956j]\n",
      "   [-1.62616856e-01+0.81485599j  1.12827454e+00+0.62501543j\n",
      "    -3.02676076e+00+0.02240449j]]\n",
      "\n",
      "  [[-8.30281010e-01-1.74534929j -1.19941929e+00+1.28375527j\n",
      "    -1.31744087e+00-0.83181027j]\n",
      "   [ 5.63779040e-01-0.25547374j  1.44236666e+00+0.79436429j\n",
      "    -2.46784689e-01+1.65746446j]\n",
      "   [ 1.89099005e-01+0.27394291j -1.23504555e+00+0.72369915j\n",
      "     5.68542980e-01-0.80156568j]\n",
      "   [ 1.26187487e+00-0.4379229j   6.37961491e-01+0.38073221j\n",
      "    -1.29451318e+00+1.01946568j]\n",
      "   [ 2.15404206e-01-0.44966549j  1.02716474e-01+0.9215293j\n",
      "     9.57468363e-01+0.33611138j]\n",
      "   [-2.95979665e+00+0.53668305j  3.35830735e-01+0.64865954j\n",
      "    -6.82898665e-01-1.77646731j]\n",
      "   [-1.05319607e+00+1.38580881j  4.93570275e-01+0.31958478j\n",
      "    -5.25826814e-01-0.99592592j]\n",
      "   [-1.22158032e+00-1.37967571j  1.06716763e+00-0.116932j\n",
      "     2.48550714e+00-0.38433606j]]\n",
      "\n",
      "  [[ 2.83879326e-01-1.17459321j  1.06901339e+00-0.14412704j\n",
      "     1.07748141e+00-1.66763398j]\n",
      "   [-4.21963301e-01+0.30137682j  7.20491474e-01-0.44672369j\n",
      "    -4.48398655e-01-0.65833473j]\n",
      "   [ 1.19323979e+00+0.98805194j -9.33985634e-01+1.07521203j\n",
      "     1.40462999e+00-1.37661148j]\n",
      "   [ 9.06950945e-02-1.12655393j -1.75093086e+00-1.25971025j\n",
      "     9.43690510e-01-1.27098506j]\n",
      "   [-6.25215529e-02+0.90995187j -8.44480104e-01+1.98068769j\n",
      "     1.96971286e-01-0.41560019j]\n",
      "   [-3.83541952e-01-0.96387648j -1.53554888e-01-0.52717817j\n",
      "    -2.55071245e-01-1.07358546j]\n",
      "   [ 1.46727656e+00-0.07770692j -8.65390504e-01+1.24909518j\n",
      "    -7.36858752e-01+1.57370555j]\n",
      "   [-4.52578424e-03+0.37897183j  2.16158860e-01-1.61734194j\n",
      "    -6.81820211e-02-0.31218717j]]\n",
      "\n",
      "  [[ 1.24198066e-01-0.72825699j  5.93629655e-01+0.28001804j\n",
      "    -1.55273185e+00-0.69036104j]\n",
      "   [ 1.01690154e-01-1.57025252j -1.07265159e+00+1.07798223j\n",
      "    -2.31831690e-02-0.82338139j]\n",
      "   [-2.17297915e+00+1.16877065j  1.80377748e-01+1.10944312j\n",
      "    -3.72120776e-01+0.42253474j]\n",
      "   [ 4.30437362e-02-2.3960501j  -1.42735034e+00+1.17896104j\n",
      "    -6.98513810e-01-0.10520407j]\n",
      "   [ 1.15034476e-01+0.71214362j -6.57956230e-01-1.27387335j\n",
      "    -2.29901152e-01+1.2578241j ]\n",
      "   [-1.81198300e+00+0.61650472j -1.04077698e+00-0.11593582j\n",
      "     2.28318052e-01-0.75483214j]\n",
      "   [-6.55221831e-01-0.17657285j  2.31561498e-01-1.52441043j\n",
      "     2.43472655e+00+0.06215375j]\n",
      "   [-3.00933731e-01+0.1982322j   2.61026919e+00-0.66408909j\n",
      "    -1.26974669e+00-1.11989165j]]]]\n"
     ]
    }
   ],
   "source": [
    "a = np.random.randn(9, 6) + 1j*np.random.randn(9, 6)\n",
    "b = np.random.randn(2, 7, 8, 3) + 1j*np.random.randn(2, 7, 8, 3)\n",
    "print('a=\\n', a)\n",
    "print('b=\\n', b)"
   ]
  },
  {
   "cell_type": "code",
   "execution_count": 41,
   "metadata": {},
   "outputs": [
    {
     "name": "stdout",
     "output_type": "stream",
     "text": [
      "u shape:\n",
      " (9, 6)\n",
      " s shape:\n",
      " (6,)\n",
      " vh shape:\n",
      " (6, 6)\n",
      "True\n",
      "True\n"
     ]
    }
   ],
   "source": [
    "u, s, vh = np.linalg.svd(a, full_matrices=False)\n",
    "print('u shape:\\n {}\\n s shape:\\n {}\\n vh shape:\\n {}'.format(u.shape, s.shape, vh.shape))\n",
    "print(np.allclose(a, np.dot(u * s, vh)))\n",
    "smat = np.diag(s)\n",
    "print(np.allclose(a, np.dot(u, np.dot(smat, vh))))"
   ]
  },
  {
   "cell_type": "code",
   "execution_count": 15,
   "metadata": {},
   "outputs": [
    {
     "name": "stdout",
     "output_type": "stream",
     "text": [
      "Sort theo axis=-1:\n",
      " [[1 4]\n",
      " [2 3]]\n",
      "Sort thành array 1 chiều: \n",
      " [1 2 3 4]\n",
      "Sort theo axis=0:\n",
      " [[1 2]\n",
      " [3 4]]\n",
      "Sort theo axis=0:\n",
      " [[1 2]\n",
      " [3 4]]\n"
     ]
    }
   ],
   "source": [
    "# Sorting. Trả về array đã copy.\n",
    "a = np.array([[1, 4], [3, 2]])\n",
    "print('Sort theo axis=-1:\\n',np.sort(a))\n",
    "print (\"Sort thành array 1 chiều: \\n\", np.sort(a, axis=None))\n",
    "print('Sort theo axis=0:\\n',np.sort(a, axis=0)) # hoặc msort với mặc định axis = 0\n",
    "print('Sort theo axis=0:\\n',np.msort(a))"
   ]
  },
  {
   "cell_type": "code",
   "execution_count": 13,
   "metadata": {},
   "outputs": [
    {
     "name": "stdout",
     "output_type": "stream",
     "text": [
      "a=\n",
      " [(b'Arthur', 1.8, 41) (b'Lancelot', 1.9, 38) (b'Galahad', 1.7, 38)]\n",
      "Sort theo height:\n",
      " [(b'Galahad', 1.7, 38) (b'Arthur', 1.8, 41) (b'Lancelot', 1.9, 38)]\n",
      "Sort theo age, nếu age bằng nhau thì theo height\n",
      " [(b'Galahad', 1.7, 38) (b'Lancelot', 1.9, 38) (b'Arthur', 1.8, 41)]\n"
     ]
    }
   ],
   "source": [
    "dtype = [('name', 'S10'), ('height', float), ('age', int)]\n",
    "values = [('Arthur', 1.8, 41), ('Lancelot', 1.9, 38),\n",
    "          ('Galahad', 1.7, 38)]\n",
    "a = np.array(values, dtype=dtype) # Tạo array của các đối tượng 3 thuộc tính.\n",
    "print('a=\\n', a)\n",
    "print('Sort theo height:\\n', np.sort(a, order='height'))\n",
    "\n",
    "print('Sort theo age, nếu age bằng nhau thì theo height\\n', np.sort(a, order=['age', 'height']))"
   ]
  },
  {
   "cell_type": "code",
   "execution_count": 14,
   "metadata": {},
   "outputs": [
    {
     "name": "stdout",
     "output_type": "stream",
     "text": [
      "[1 2 0]\n"
     ]
    }
   ],
   "source": [
    "# Sort theo phần tử, trả về mảng vị trí sau khi sort\n",
    "x = np.array([3, 1, 2])\n",
    "print(np.argsort(x))"
   ]
  },
  {
   "cell_type": "code",
   "execution_count": 40,
   "metadata": {},
   "outputs": [
    {
     "name": "stdout",
     "output_type": "stream",
     "text": [
      "a=\n",
      " [[ 0  2  4]\n",
      " [ 6  8 10]]\n",
      "Vị trí phần tử max:\n",
      " 5\n",
      "Vị trí phần tử max theo từng cột\n",
      " [1 1 1]\n",
      "Vị trí phần tử max theo từng dòng\n",
      " [2 2]\n",
      "-2\n",
      "a=\n",
      " [[ -1  -3  -5]\n",
      " [ -7  -9 -11]]\n",
      "Vị trí phần tử min:\n",
      " 5\n",
      "Vị trí phần tử min theo từng cột\n",
      " [1 1 1]\n",
      "Vị trí phần tử min theo từng dòng\n",
      " [2 2]\n"
     ]
    }
   ],
   "source": [
    "a = np.arange(0, 12, 2).reshape(2, -1)\n",
    "print('a=\\n', a)\n",
    "print('Vị trí phần tử max:\\n', np.argmax(a))\n",
    "print('Vị trí phần tử max theo từng cột\\n', np.argmax(a, axis=0))\n",
    "print('Vị trí phần tử max theo từng dòng\\n', np.argmax(a, axis=1))\n",
    "a = np.invert(a) # invert: trả giá trị sau khi, lật bit dạng nhị phân của một số, ví dụ: 13 = 00001101 ==> 11110010 = 242\n",
    "print('a=\\n', a)\n",
    "print('Vị trí phần tử min:\\n', np.argmin(a))\n",
    "print('Vị trí phần tử min theo từng cột\\n', np.argmin(a, axis=0))\n",
    "print('Vị trí phần tử min theo từng dòng\\n', np.argmin(a, axis=1))"
   ]
  },
  {
   "cell_type": "code",
   "execution_count": 49,
   "metadata": {},
   "outputs": [
    {
     "name": "stdout",
     "output_type": "stream",
     "text": [
      "Số phần tử khác 0 : 2\n"
     ]
    }
   ],
   "source": [
    "a = np.count_nonzero([[0,1,0,0],[0,0,2,0]])\n",
    "print('Số phần tử khác 0 :',a)"
   ]
  },
  {
   "cell_type": "code",
   "execution_count": 53,
   "metadata": {},
   "outputs": [
    {
     "name": "stdout",
     "output_type": "stream",
     "text": [
      "[[ 0  1  2  3]\n",
      " [ 4  5  6  7]\n",
      " [ 8  9 10 11]]\n",
      "[[ True False False  True]\n",
      " [False False  True False]\n",
      " [False  True False False]]\n"
     ]
    },
    {
     "data": {
      "text/plain": [
       "array([0, 3, 6, 9])"
      ]
     },
     "execution_count": 53,
     "metadata": {},
     "output_type": "execute_result"
    }
   ],
   "source": [
    "# Trích ma trận theo điều kiện: extract\n",
    "a = np.arange(12).reshape((3, 4))\n",
    "print(a)\n",
    "condition = np.mod(a, 3)==0\n",
    "print(condition)\n",
    "np.extract(condition, a)"
   ]
  },
  {
   "cell_type": "code",
   "execution_count": 80,
   "metadata": {},
   "outputs": [
    {
     "name": "stdout",
     "output_type": "stream",
     "text": [
      "a=\n",
      " [1 1 0 0 0]\n",
      "b=\n",
      " [[1 3 1]\n",
      " [2 0 1]]\n",
      "c=\n",
      " [[[3 3 5 7]\n",
      "  [6 3 9 5]\n",
      "  [2 3 9 7]]\n",
      "\n",
      " [[3 7 2 5]\n",
      "  [7 2 5 9]\n",
      "  [3 5 9 4]]]\n"
     ]
    }
   ],
   "source": [
    "# randint, tạo ma trận theo size cho trước, điền giá trị kiểu int ngẫu nhiên trong nửa khoảng [low, high)\n",
    "a = np.random.randint(low = 0, high = 3, size = 5) \n",
    "b = np.random.randint(low = 4, size =(2, 3)) \n",
    "c = np.random.randint(2, 10, (2, 3, 4)) \n",
    "\n",
    "print('a=\\n', a)\n",
    "print('b=\\n', b)\n",
    "print('c=\\n', c)"
   ]
  },
  {
   "cell_type": "code",
   "execution_count": 73,
   "metadata": {},
   "outputs": [
    {
     "name": "stdout",
     "output_type": "stream",
     "text": [
      "a=\n",
      " [0.67683192 0.8841557  0.09070135 0.60266481 0.55661236]\n",
      "b=\n",
      " 0.3521334804195825\n",
      "c=\n",
      " [0.38730364 0.13400602 0.32058969]\n",
      "d=\n",
      " [0.33840799 0.74735872 0.17052163]\n",
      "e=\n",
      " [[[0.67175192 0.74368304 0.06460222 0.96396634]\n",
      "  [0.99831272 0.43228785 0.98198372 0.03268076]\n",
      "  [0.11876891 0.61710884 0.0043247  0.8612622 ]]\n",
      "\n",
      " [[0.32531075 0.43071868 0.45260727 0.76116588]\n",
      "  [0.03880497 0.65513531 0.94484008 0.74833987]\n",
      "  [0.5304586  0.01119858 0.43611714 0.85032921]]]\n"
     ]
    }
   ],
   "source": [
    "# random,  ranf, random_sample, sample: tạo ma trận theo size cho trước, điền giá trị kiểu float ngẫu nhiên trong nửa khoảng [0.0, 1.0)\n",
    "a = np.random.random(size = 5) \n",
    "b = np.random.ranf(size = None) # None trả về 1 giá trị\n",
    "c = np.random.random_sample(size=3)\n",
    "d = np.random.sample(size=3)\n",
    "e = np.random.random((2, 3, 4))\n",
    "print('a=\\n', a)\n",
    "print('b=\\n', b)\n",
    "print('c=\\n', c)\n",
    "print('d=\\n', d)\n",
    "print('e=\\n', e)"
   ]
  },
  {
   "cell_type": "code",
   "execution_count": 78,
   "metadata": {},
   "outputs": [
    {
     "data": {
      "text/plain": [
       "<function RandomState.random>"
      ]
     },
     "execution_count": 78,
     "metadata": {},
     "output_type": "execute_result"
    }
   ],
   "source": [
    "np.random.random"
   ]
  },
  {
   "cell_type": "code",
   "execution_count": 74,
   "metadata": {},
   "outputs": [
    {
     "data": {
      "text/plain": [
       "<function numpy.random.mtrand.ranf>"
      ]
     },
     "execution_count": 74,
     "metadata": {},
     "output_type": "execute_result"
    }
   ],
   "source": [
    "np.random.ranf"
   ]
  },
  {
   "cell_type": "code",
   "execution_count": 75,
   "metadata": {},
   "outputs": [
    {
     "data": {
      "text/plain": [
       "<function RandomState.random_sample>"
      ]
     },
     "execution_count": 75,
     "metadata": {},
     "output_type": "execute_result"
    }
   ],
   "source": [
    "np.random.random_sample"
   ]
  },
  {
   "cell_type": "code",
   "execution_count": 76,
   "metadata": {},
   "outputs": [
    {
     "data": {
      "text/plain": [
       "<function numpy.random.mtrand.sample>"
      ]
     },
     "execution_count": 76,
     "metadata": {},
     "output_type": "execute_result"
    }
   ],
   "source": [
    "np.random.sample"
   ]
  },
  {
   "cell_type": "code",
   "execution_count": 85,
   "metadata": {},
   "outputs": [
    {
     "name": "stdout",
     "output_type": "stream",
     "text": [
      "a=\n",
      " [[0.295 0.084 0.108]\n",
      " [0.347 0.603 0.014]\n",
      " [0.803 0.378 0.826]\n",
      " [0.248 0.661 0.182]\n",
      " [0.136 0.815 0.121]]\n"
     ]
    }
   ],
   "source": [
    "# Chỉ in 3 số sau dấu phẩy\n",
    "np.set_printoptions(precision=3)\n",
    "\n",
    "print('a=\\n', np.random.random((5,3)))"
   ]
  },
  {
   "cell_type": "code",
   "execution_count": 96,
   "metadata": {},
   "outputs": [
    {
     "name": "stdout",
     "output_type": "stream",
     "text": [
      "a=\n",
      " [[9.91069e-04 3.58915e-05 2.35308e-04]\n",
      " [4.07558e-04 7.38770e-04 4.72760e-04]\n",
      " [6.84192e-04 9.41459e-04 1.43166e-04]]\n",
      "a=\n",
      " [[0.00099 0.00004 0.00024]\n",
      " [0.00041 0.00074 0.00047]\n",
      " [0.00068 0.00094 0.00014]]\n"
     ]
    }
   ],
   "source": [
    "# Hiển thị số định dạng e-, e+ thành số bình thường bỏ e\n",
    "np.set_printoptions(suppress=False)\n",
    "a = np.random.random([3,3])/1e3\n",
    "print('a=\\n', a)\n",
    "np.set_printoptions(suppress=True, precision=5)\n",
    "print('a=\\n', a)"
   ]
  },
  {
   "cell_type": "code",
   "execution_count": null,
   "metadata": {},
   "outputs": [],
   "source": []
  }
 ],
 "metadata": {
  "kernelspec": {
   "display_name": "Python 3",
   "language": "python",
   "name": "python3"
  },
  "language_info": {
   "codemirror_mode": {
    "name": "ipython",
    "version": 3
   },
   "file_extension": ".py",
   "mimetype": "text/x-python",
   "name": "python",
   "nbconvert_exporter": "python",
   "pygments_lexer": "ipython3",
   "version": "3.8.3"
  }
 },
 "nbformat": 4,
 "nbformat_minor": 4
}

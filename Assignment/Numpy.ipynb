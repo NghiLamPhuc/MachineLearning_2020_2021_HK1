{
 "cells": [
  {
   "cell_type": "code",
   "execution_count": null,
   "metadata": {},
   "outputs": [],
   "source": [
    "# Trong python, để định nghĩa, làm việc với array có thể dùng list nhưng chậm.\n",
    "# Numpy có đối tượng ndarray nhanh hơn 50x lần. Ngoài ra còn có nhiều hàm xây dựng sẵn hỗ trợ tính toán.\n",
    "# Tham khảo:\n",
    "# https://www.w3schools.com/python/numpy_intro.asp\n",
    "# https://www.geeksforgeeks.org/python-numpy/?ref=lbp\n",
    "# https://numpy.org/doc/stable/index.html"
   ]
  },
  {
   "cell_type": "code",
   "execution_count": 1,
   "metadata": {
    "scrolled": true
   },
   "outputs": [
    {
     "name": "stdout",
     "output_type": "stream",
     "text": [
      "Numpy version:  1.18.5\n"
     ]
    }
   ],
   "source": [
    "import numpy as np\n",
    "# Xem version của numpy\n",
    "print('Numpy version: ', np.__version__)\n",
    "# document của numpy\n",
    "# print(np.__doc__)"
   ]
  },
  {
   "cell_type": "code",
   "execution_count": 72,
   "metadata": {},
   "outputs": [
    {
     "name": "stdout",
     "output_type": "stream",
     "text": [
      "Ma trận 0 chiều:  1\n",
      "Ma trận 1 chiều:  [1 2 3]\n",
      "Ma trận 2 chiều:  [1 2 3] [4 5 6]\n",
      "Ma trận 2 chiều:  ['1' '2' '3'] ['4' '5' '6']\n"
     ]
    }
   ],
   "source": [
    "print('Ma trận 0 chiều: ', np.array(1))\n",
    "print('Ma trận 1 chiều: ', np.array([1, 2, 3]))\n",
    "print('Ma trận 2 chiều: ', *np.array([[1, 2, 3], [4, 5, 6]]))\n",
    "# Nếu có giá trị là str thì toàn bộ array là str\n",
    "print('Ma trận 2 chiều: ', *np.array([[1, '2', 3], [4, 5, 6]]))"
   ]
  },
  {
   "cell_type": "code",
   "execution_count": 73,
   "metadata": {},
   "outputs": [
    {
     "name": "stdout",
     "output_type": "stream",
     "text": [
      "ndim: lấy số chiều của ma trận\n",
      "Ma trận 3 chiều:\n",
      " [[[ 1  2  3]\n",
      "  [ 4  5  6]]\n",
      "\n",
      " [[-1 -2 -3]\n",
      "  [-4 -5 -6]]] \n",
      "\n",
      "shape: lấy kích thước của ma trận\n",
      "(2, 2, 3) \n",
      "\n",
      "reshape: chuyển kích thước của ma trận, phải đảm bảo shape mới phù hợp số phần tử\n",
      "[[ 1  2  3]\n",
      " [ 4  5  6]\n",
      " [-1 -2 -3]\n",
      " [-4 -5 -6]]\n",
      "flatten hoặc ravel: Chuyển về ma trận 1 chiều, flatten copy thành array mới, còn ravel chuyển trực tiếp\n",
      "[ 1  2  3  4  5  6 -1 -2 -3 -4 -5 -6]\n",
      "[ 1  2  3  4  5  6 -1 -2 -3 -4 -5 -6]\n",
      "Số phần tử của ma trận:  12 \n",
      "\n",
      "Kiểu dữ liệu của từng phần tử trong ma trận:  int32\n",
      "arr3 có tham số là list:[] và tupe:(). np.array sẽ chuyển hết về ndarray\n",
      "<class 'numpy.ndarray'>\n",
      "<class 'numpy.ndarray'>\n",
      "<class 'numpy.int32'>\n"
     ]
    }
   ],
   "source": [
    "arr3 = np.array([\n",
    "                 [(1, 2, 3), [4, 5, 6]],\n",
    "                 ([-1, -2, -3], [-4, -5, -6])\n",
    "                ])\n",
    "print('ndim: lấy số chiều của ma trận')\n",
    "print('Ma trận {} chiều:\\n'.format(arr3.ndim), arr3, '\\n')\n",
    "print('shape: lấy kích thước của ma trận')\n",
    "print(arr3.shape, '\\n')\n",
    "print('reshape: chuyển kích thước của ma trận, phải đảm bảo shape mới phù hợp số phần tử')\n",
    "print(arr3.reshape(4, 3))\n",
    "print('flatten hoặc ravel: Chuyển về ma trận 1 chiều, flatten copy thành array mới, còn ravel chuyển trực tiếp')\n",
    "print(arr3.flatten())\n",
    "print(arr3.ravel())\n",
    "print('Số phần tử của ma trận: ', arr3.size, '\\n')\n",
    "print('Kiểu dữ liệu của từng phần tử trong ma trận: ', arr3.dtype)\n",
    "\n",
    "print('arr3 có tham số là list:[] và tupe:(). np.array sẽ chuyển hết về ndarray')\n",
    "print(type(arr3[0]))\n",
    "print(type(arr3[0][0]))\n",
    "print(type(arr3[0][0][0]))\n"
   ]
  },
  {
   "cell_type": "code",
   "execution_count": 74,
   "metadata": {},
   "outputs": [
    {
     "name": "stdout",
     "output_type": "stream",
     "text": [
      "Thêm tham số dtype để gán kiểu cho các phần tử trong ma trận.\n",
      "['1' '2' '3']\n",
      "[1 2 3]\n"
     ]
    }
   ],
   "source": [
    "print('Thêm tham số dtype để gán kiểu cho các phần tử trong ma trận.')\n",
    "arr = np.array([1, 2, 3], dtype = 'str')\n",
    "print(arr)\n",
    "arr = np.array(arr, dtype='int')\n",
    "print(arr)"
   ]
  },
  {
   "cell_type": "code",
   "execution_count": 75,
   "metadata": {},
   "outputs": [
    {
     "name": "stdout",
     "output_type": "stream",
     "text": [
      "[0 1 2 3 4]\n",
      "[10  8  6  4  2]\n",
      "[10.  8.  6.  4.  2.]\n"
     ]
    }
   ],
   "source": [
    "# Tạo ma trận bằng arange(start, end, step, dtype).\n",
    "print(np.arange(0, 5))\n",
    "print(np.arange(10, 0, -2))\n",
    "print(np.arange(10, 0, -2, 'float'))"
   ]
  },
  {
   "cell_type": "code",
   "execution_count": 91,
   "metadata": {},
   "outputs": [
    {
     "name": "stdout",
     "output_type": "stream",
     "text": [
      "linspace(0, 3, 5) = [0.   0.75 1.5  2.25 3.  ]\n",
      "Tham số retstep hiển thị (ma trận, bước nhảy giữa các p.tử):\n",
      " (array([0.  , 0.75, 1.5 , 2.25, 3.  ]), 0.75) \n",
      "\n",
      "Mặc định số phần tử là: 50 \n",
      " (array([0.        , 0.06122449, 0.12244898, 0.18367347, 0.24489796,\n",
      "       0.30612245, 0.36734694, 0.42857143, 0.48979592, 0.55102041,\n",
      "       0.6122449 , 0.67346939, 0.73469388, 0.79591837, 0.85714286,\n",
      "       0.91836735, 0.97959184, 1.04081633, 1.10204082, 1.16326531,\n",
      "       1.2244898 , 1.28571429, 1.34693878, 1.40816327, 1.46938776,\n",
      "       1.53061224, 1.59183673, 1.65306122, 1.71428571, 1.7755102 ,\n",
      "       1.83673469, 1.89795918, 1.95918367, 2.02040816, 2.08163265,\n",
      "       2.14285714, 2.20408163, 2.26530612, 2.32653061, 2.3877551 ,\n",
      "       2.44897959, 2.51020408, 2.57142857, 2.63265306, 2.69387755,\n",
      "       2.75510204, 2.81632653, 2.87755102, 2.93877551, 3.        ]), 0.061224489795918366) \n",
      "\n",
      "Ép kiểu phần tử dtype= str:  ['0.0' '0.75' '1.5' '2.25' '3.0'] \n",
      "\n",
      "Tham số endpoint mặc định = True: phần tử cuối cùng là số stop\n",
      " = False phần tử cuối cùng nhỏ hơn số stop\n",
      "(array([0.  , 0.25, 0.5 , 0.75, 1.  ]), 0.25)\n",
      "(array([0. , 0.2, 0.4, 0.6, 0.8]), 0.2)\n"
     ]
    }
   ],
   "source": [
    "# Tạo ma trận bằng linspace(start, stop, number_of_elements)\n",
    "# Các phần tử cách đều nhau trong [start:stop]\n",
    "print('linspace(0, 3, 5) =', np.linspace(0, 3, num=5))\n",
    "print('Tham số retstep hiển thị (ma trận, bước nhảy giữa các p.tử):\\n',\n",
    "      np.linspace(0, 3, num=5, retstep=True), '\\n')\n",
    "\n",
    "a = np.linspace(0, 3, retstep=True)\n",
    "print('Mặc định số phần tử là:', len(a[0]), '\\n', a, '\\n')\n",
    "\n",
    "a = np.linspace(0, 3, 5, dtype='str')\n",
    "print('Ép kiểu phần tử dtype= str: ', a, '\\n')\n",
    "\n",
    "print('Tham số endpoint mặc định = True: phần tử cuối cùng là số stop')\n",
    "print(' = False phần tử cuối cùng nhỏ hơn số stop')\n",
    "a = np.linspace(0, 1, 5, retstep=True)\n",
    "print(a)\n",
    "a = np.linspace(0, 1, 5, endpoint=False, retstep=True)\n",
    "print(a)"
   ]
  },
  {
   "cell_type": "code",
   "execution_count": 77,
   "metadata": {},
   "outputs": [
    {
     "name": "stdout",
     "output_type": "stream",
     "text": [
      "[[1. 0.]\n",
      " [0. 1.]] \n",
      "\n",
      "[[0. 0. 1. 0.]\n",
      " [0. 0. 0. 1.]\n",
      " [0. 0. 0. 0.]\n",
      " [0. 0. 0. 0.]] \n",
      "\n",
      "[[0. 0. 0. 0.]\n",
      " [1. 0. 0. 0.]\n",
      " [0. 1. 0. 0.]\n",
      " [0. 0. 1. 0.]] \n",
      "\n",
      "[[1. 0. 0. 0.]\n",
      " [0. 1. 0. 0.]\n",
      " [0. 0. 1. 0.]\n",
      " [0. 0. 0. 1.]]\n"
     ]
    }
   ],
   "source": [
    "# eye: Tạo ma trận 2 chiều đường chéo = 1, còn lại = 0. Mặc định kiểu float\n",
    "print(np.eye(2), '\\n')\n",
    "# k vị trí bắt đầu đường chéo, k>0 vị trí bắt đầu ở hàng thứ 0\n",
    "#                              k<0 vị trí bắt đầu ở hàng cuối.\n",
    "print(np.eye(4, k=2), '\\n')\n",
    "print(np.eye(4, k=-1), '\\n')\n",
    "# identity: Tạo ma trận vuông có đường chéo chính các số bằng 1.\n",
    "print(np.identity(4))"
   ]
  },
  {
   "cell_type": "code",
   "execution_count": 78,
   "metadata": {},
   "outputs": [
    {
     "name": "stdout",
     "output_type": "stream",
     "text": [
      "[[[1. 1. 1. 1. 1.]\n",
      "  [1. 1. 1. 1. 1.]\n",
      "  [1. 1. 1. 1. 1.]\n",
      "  [1. 1. 1. 1. 1.]]\n",
      "\n",
      " [[1. 1. 1. 1. 1.]\n",
      "  [1. 1. 1. 1. 1.]\n",
      "  [1. 1. 1. 1. 1.]\n",
      "  [1. 1. 1. 1. 1.]]\n",
      "\n",
      " [[1. 1. 1. 1. 1.]\n",
      "  [1. 1. 1. 1. 1.]\n",
      "  [1. 1. 1. 1. 1.]\n",
      "  [1. 1. 1. 1. 1.]]] \n",
      "\n",
      "[1. 1. 1.]\n"
     ]
    }
   ],
   "source": [
    "# ones: Tạo ma trận toàn số 1.\n",
    "# tham số là một số nguyên hoặc 1 tuple\n",
    "print(np.ones( (3,4,5) ) , '\\n')\n",
    "print(np.ones(3))"
   ]
  },
  {
   "cell_type": "code",
   "execution_count": 79,
   "metadata": {},
   "outputs": [
    {
     "name": "stdout",
     "output_type": "stream",
     "text": [
      "[[0. 0. 0. 0.]\n",
      " [0. 0. 0. 0.]\n",
      " [0. 0. 0. 0.]] \n",
      "\n",
      "[0. 0. 0.]\n"
     ]
    }
   ],
   "source": [
    "# zeros: Tạo ma trận toàn số 0.\n",
    "# tham số là một số nguyên hoặc 1 tuple\n",
    "print(np.zeros( (3,4) ) , '\\n')\n",
    "print(np.zeros(3))"
   ]
  },
  {
   "cell_type": "code",
   "execution_count": 80,
   "metadata": {},
   "outputs": [
    {
     "name": "stdout",
     "output_type": "stream",
     "text": [
      "[[0. 0. 0. 0.]\n",
      " [0. 0. 0. 0.]\n",
      " [0. 0. 0. 0.]] \n",
      "\n",
      "[[1.+0.j 2.+0.j 3.+0.j]\n",
      " [1.+0.j 2.+0.j 3.+0.j]] \n",
      "\n",
      "[[1 1 1]\n",
      " [1 1 1]]\n"
     ]
    }
   ],
   "source": [
    "# empty: Tạo ma trận với shape cho trước, không tạo thêm giá trị mới trên bộ nhớ, dùng 1 vùng giá trị có trên bộ nhớ.\n",
    "print(np.empty([3,4]), '\\n')\n",
    "# full: Tạo ma trận với shape, điền các giá trị cho trước, có thể là 1 số hoặc các số (bắt buộc phải có).\n",
    "print(np.full((2, 3), [1, 2, 3], dtype='complex'), '\\n')\n",
    "print(np.full((2, 3), 1))"
   ]
  },
  {
   "cell_type": "code",
   "execution_count": 92,
   "metadata": {},
   "outputs": [
    {
     "name": "stdout",
     "output_type": "stream",
     "text": [
      "[[0 1 2]\n",
      " [3 4 5]] \n",
      "\n",
      "[[1 1 1]\n",
      " [1 1 1]] \n",
      "\n",
      "[[0 0 0]\n",
      " [0 0 0]] \n",
      "\n",
      "[[-1 -2 -3]\n",
      " [-1 -2 -3]] \n",
      "\n",
      "[[-1 -2 -3]\n",
      " [-1 -2 -3]] \n",
      "\n",
      "[[ 2.   0.   4. ]\n",
      " [-0.5  6.   0. ]] \n",
      "\n"
     ]
    }
   ],
   "source": [
    "# ones_like, zeros_like, ....: Tạo ma trận theo shape của ma trận khác.\n",
    "a = np.arange(6); a = a.reshape((2, 3))\n",
    "print(a, '\\n')\n",
    "print(np.ones_like(a), '\\n')\n",
    "print(np.zeros_like(a), '\\n')\n",
    "print(np.full_like(a, [-1,-2,-3]), '\\n')\n",
    "print(np.empty_like(a, dtype='int'), '\\n')\n",
    "print(np.empty_like(a, dtype='float'), '\\n')"
   ]
  },
  {
   "cell_type": "code",
   "execution_count": 109,
   "metadata": {},
   "outputs": [
    {
     "name": "stdout",
     "output_type": "stream",
     "text": [
      "a= [1 0 1 0]\n",
      "b= [1 1 0 0]\n",
      "phép and từng cặp phần tử trong a, b\n",
      "[1 0 0 0] \n",
      "\n",
      "phép or từng cặp phần tử trong a, b\n",
      "[1 1 1 0] \n",
      "\n",
      "a= [ 0  4  8 12 16]\n",
      "b= [1 3 5 7 9]\n",
      "Cộng, trừ, nhân, chia theo cặp phần tử\n",
      "Cộng : [ 1  7 13 19 25]\n",
      "Trừ :  [-1  1  3  5  7]\n",
      "Nhân:  [  0  12  40  84 144]\n",
      "Chia: [0.         1.33333333 1.6        1.71428571 1.77777778]\n",
      "Chia làm tròn xuống:  [0 1 1 1 1]\n",
      "Chia lấy 2 ma trận nguyên, dư:,  (array([0, 1, 1, 1, 1], dtype=int32), array([0, 1, 3, 5, 7], dtype=int32))\n",
      "Chuyển các phần tử thành số âm [  0  -4  -8 -12 -16]\n"
     ]
    }
   ],
   "source": [
    "a = np.array([1,0,1,0])\n",
    "b = np.array([1,1,0,0])\n",
    "print('a=', a)\n",
    "print('b=', b)\n",
    "print('phép and từng cặp phần tử trong a, b')\n",
    "print(np.bitwise_and(a, b), '\\n')\n",
    "print('phép or từng cặp phần tử trong a, b')\n",
    "print(np.bitwise_or(a, b), '\\n')\n",
    "a = np.arange(0, 20, 4)\n",
    "b = np.arange(1, 10, 2)\n",
    "print('a=', a)\n",
    "print('b=', b)\n",
    "print('Cộng, trừ, nhân, chia theo cặp phần tử')\n",
    "print('Cộng :', np.add(a,b))\n",
    "print('Trừ : ', np.subtract(a,b))\n",
    "print('Nhân: ', np.multiply(a,b))\n",
    "print('Chia:', np.divide(a,b)) # 1/0 = infinite 0/0 = nan\n",
    "print('Chia làm tròn xuống: ', np.floor_divide(a,b))\n",
    "print('Chia lấy 2 ma trận nguyên, dư:, ', np.divmod(a,b))\n",
    "print('Chuyển các phần tử thành số âm', np.negative(a))# positive cho số dương"
   ]
  },
  {
   "cell_type": "code",
   "execution_count": 112,
   "metadata": {},
   "outputs": [
    {
     "name": "stdout",
     "output_type": "stream",
     "text": [
      "[[-1.   2.   0.   4. ]\n",
      " [ 4.  -0.5  6.   0. ]\n",
      " [ 2.6  0.   7.   8. ]\n",
      " [ 3.  -7.   4.   2. ]]\n",
      "Tạo ma trận mới, lấy phần tử theo index từ ma trận cho trước, ví dụ dòng 0 các vị trí 0, 2, 3\n",
      "[-1.  0.  4.] \n",
      "\n",
      "Lấy ma trận con 2 dòng, mỗi dòng lấy cột từ 1->3.\n",
      "[[ 2.   0.   4. ]\n",
      " [-0.5  6.   0. ]] \n",
      "\n",
      "Lấy phần tử theo index dòng, ứng cột, ví dụ ở đây lấy các phần tử (0, 3), (1, 2), (2, 1), (3, 0).\n",
      "[4. 6. 0. 3.] \n",
      "\n",
      "Lấy phần tử âm\n",
      "[-1.  -0.5 -7. ] \n",
      "\n",
      "Thay phần tử âm = -99\n",
      "[[-99.    2.    0.    4. ]\n",
      " [  4.  -99.    6.    0. ]\n",
      " [  2.6   0.    7.    8. ]\n",
      " [  3.  -99.    4.    2. ]] \n",
      "\n",
      "Ví dụ cộng mỗi phần tử với 1. Tương tự các phép toán khác.\n",
      "[[-98.    3.    1.    5. ]\n",
      " [  5.  -98.    7.    1. ]\n",
      " [  3.6   1.    8.    9. ]\n",
      " [  4.  -98.    5.    3. ]] \n",
      "\n",
      "Lũy thừa 2 cho mỗi phần tử.\n",
      "[[9.801e+03 4.000e+00 0.000e+00 1.600e+01]\n",
      " [1.600e+01 9.801e+03 3.600e+01 0.000e+00]\n",
      " [6.760e+00 0.000e+00 4.900e+01 6.400e+01]\n",
      " [9.000e+00 9.801e+03 1.600e+01 4.000e+00]] \n",
      "\n",
      "Chuyển vị ma trận.\n",
      "[[-99.    4.    2.6   3. ]\n",
      " [  2.  -99.    0.  -99. ]\n",
      " [  0.    6.    7.    4. ]\n",
      " [  4.    0.    8.    2. ]] \n",
      "\n",
      "max = 8.0, min = -99.0\n",
      "Tổng các dòng: [ -89.4 -196.    17.    14. ]\n",
      "Cộng tích lũy trên dưới trái phải (cumulative sum): \n",
      "[ -99.   -97.   -97.   -93.   -89.  -188.  -182.  -182.  -179.4 -179.4\n",
      " -172.4 -164.4 -161.4 -260.4 -256.4 -254.4]\n",
      "Cộng tích lũy theo dòng trái phải, ghi kết quả thành cột: \n",
      "[[ -99.     2.     0.     4. ]\n",
      " [ -95.   -97.     6.     4. ]\n",
      " [ -92.4  -97.    13.    12. ]\n",
      " [ -89.4 -196.    17.    14. ]]\n",
      "Cộng tích lũy theo cột trên dưới, ghi kết quả thành dòng: \n",
      "[[-99.  -97.  -97.  -93. ]\n",
      " [  4.  -95.  -89.  -89. ]\n",
      " [  2.6   2.6   9.6  17.6]\n",
      " [  3.  -96.  -92.  -90. ]]\n",
      "Cộng các phần tử: -254.400000\n",
      "Căn bậc 3 cbrt:  [1. 2. 3. 4.]\n"
     ]
    }
   ],
   "source": [
    "arr = np.array([[-1, 2, 0, 4],\n",
    "                [4, -0.5, 6, 0],\n",
    "                [2.6, 0, 7, 8],\n",
    "                [3, -7, 4, 2.0]])\n",
    "print(arr)\n",
    "print('Tạo ma trận mới, lấy phần tử theo index từ ma trận cho trước, ví dụ dòng 0 các vị trí 0, 2, 3')\n",
    "print(arr[0][np.array([0, 2, 3])], '\\n')\n",
    "print('Lấy ma trận con 2 dòng, mỗi dòng lấy cột từ 1->3.')\n",
    "print(arr[:2, 1:4], '\\n')\n",
    "print('Lấy phần tử theo index dòng, ứng cột, ví dụ ở đây lấy các phần tử (0, 3), (1, 2), (2, 1), (3, 0).')\n",
    "print(arr[[0, 1, 2, 3], [3, 2, 1, 0]], '\\n')\n",
    "print('Lấy phần tử âm')\n",
    "print(arr[arr < 0], '\\n')\n",
    "print('Thay phần tử âm = -99')\n",
    "arr[arr < 0] = -99\n",
    "print(arr, '\\n')\n",
    "# Tính element-wise (thực hiện phép tính với từng giá trị trong array)\n",
    "print('Ví dụ cộng mỗi phần tử với 1. Tương tự các phép toán khác.')\n",
    "print(arr + 1, '\\n')\n",
    "print('Lũy thừa 2 cho mỗi phần tử.')\n",
    "print(arr**(2), '\\n')\n",
    "print('Chuyển vị ma trận.')\n",
    "print(arr.T, '\\n')\n",
    "print('max = {}, min = {}'.format(arr.max(), arr.min()))\n",
    "print('Tổng các dòng: {}'.format(sum(arr)))\n",
    "print('Cộng tích lũy trên dưới trái phải (cumulative sum): \\n{}'.format(arr.cumsum()))\n",
    "print('Cộng tích lũy theo dòng trái phải, ghi kết quả thành cột: \\n{}'.format(arr.cumsum(axis = 0)))\n",
    "print('Cộng tích lũy theo cột trên dưới, ghi kết quả thành dòng: \\n{}'.format(arr.cumsum(axis = 1)))\n",
    "print(f'Cộng các phần tử: {arr.sum():f}')\n",
    "# Căn bậc ba cbrt\n",
    "print('Căn bậc 3 cbrt: ', np.cbrt(np.array([1, 8, 27, 64])))"
   ]
  },
  {
   "cell_type": "code",
   "execution_count": 84,
   "metadata": {},
   "outputs": [
    {
     "name": "stdout",
     "output_type": "stream",
     "text": [
      "Cộng ma trận:\n",
      " [[5 5]\n",
      " [5 5]]\n",
      "Nhân ma trận theo cặp phần tử:\n",
      " [[4 6]\n",
      " [6 4]]\n",
      "Nhân ma trận:\n",
      " [[ 8  5]\n",
      " [20 13]]\n"
     ]
    }
   ],
   "source": [
    "a = np.array([[1, 2],\n",
    "            [3, 4]])\n",
    "b = np.array([[4, 3],\n",
    "            [2, 1]])\n",
    "print (\"Cộng ma trận:\\n\", a + b)\n",
    "print (\"Nhân ma trận theo cặp phần tử:\\n\", a*b)\n",
    "print (\"Nhân ma trận:\\n\", a.dot(b))"
   ]
  },
  {
   "cell_type": "code",
   "execution_count": 17,
   "metadata": {},
   "outputs": [
    {
     "name": "stdout",
     "output_type": "stream",
     "text": [
      "a= [[0 1 2 3 4]\n",
      " [5 6 7 8 9]]\n",
      "b= [[1 1 1 1 1]\n",
      " [1 1 1 1 1]]\n",
      "Ghép b vào a theo chiều dọc (thêm dòng vào a)\n",
      "[[0 1 2 3 4]\n",
      " [5 6 7 8 9]\n",
      " [1 1 1 1 1]\n",
      " [1 1 1 1 1]]\n",
      "Ghép b vào a theo chiều ngang (thêm phần tử vào các dòng của a)\n",
      "[[0 1 2 3 4 1 1 1 1 1]\n",
      " [5 6 7 8 9 1 1 1 1 1]]\n",
      "Lấy ma trận giao của a và b\n",
      "[1]\n",
      "Lấy ma trận hiệu của a - b\n",
      "[0 2 3 4 5 6 7 8 9]\n",
      "Vị trí các phần tử trùng nhau của a và b\n",
      "(array([1], dtype=int64),)\n"
     ]
    }
   ],
   "source": [
    "a = np.arange(10).reshape(2,-1) # -1: tự chia kích thước còn lại của ma trận\n",
    "b = np.repeat(1, 10).reshape(2,-1)\n",
    "print('a=', a)\n",
    "print('b=', b)\n",
    "print('Ghép b vào a theo chiều dọc (thêm dòng vào a)')\n",
    "print(np.concatenate([a, b], axis = 0))\n",
    "#np.vstack([a, b]) # Cách 2\n",
    "#np.r_[a, b] # Cách 3\n",
    "print('Ghép b vào a theo chiều ngang (thêm phần tử vào các dòng của a)')\n",
    "print(np.hstack([a, b]))\n",
    "# np.concatenate([a, b], axis = 1)\n",
    "#np.c_[a, b]\n",
    "print('Lấy ma trận giao của a và b')\n",
    "print(np.intersect1d(a, b))\n",
    "print('Lấy ma trận hiệu của a - b')\n",
    "print(np.setdiff1d(a, b))"
   ]
  },
  {
   "cell_type": "code",
   "execution_count": 33,
   "metadata": {},
   "outputs": [
    {
     "name": "stdout",
     "output_type": "stream",
     "text": [
      "a= [1 2 3 2 3 4 3 4 5 6]\n",
      "b= [ 7  2 10  2  7  4  9  4  9  8]\n",
      "Vị trí các phần tử trùng nhau của a và b\n",
      "[1 3 5 7]\n",
      "Lấy phần tử trong a thuộc đoạn [4;6]\n",
      "[4 4 5 6]\n",
      "a=\n",
      " [[1 2]\n",
      " [3 2]\n",
      " [3 4]\n",
      " [3 4]\n",
      " [5 6]]\n",
      "Đổi vị trí cột trong a\n",
      "[[2 1]\n",
      " [2 3]\n",
      " [4 3]\n",
      " [4 3]\n",
      " [6 5]]\n",
      "Đổi vị trí dòng trong a\n",
      "[[5 6]\n",
      " [1 2]]\n"
     ]
    }
   ],
   "source": [
    "a = np.array([1,2,3,2,3,4,3,4,5,6])\n",
    "b = np.array([7,2,10,2,7,4,9,4,9,8])\n",
    "print('a=',a)\n",
    "print('b=',b)\n",
    "print('Vị trí các phần tử trùng nhau của a và b')\n",
    "print(np.where(a == b)[0])\n",
    "print('Lấy phần tử trong a thuộc đoạn [4;6]')\n",
    "index = np.where((a >= 4) & (a <= 6))\n",
    "print(a[index])\n",
    "# print(a[(a>=4) & (a<=6)]) # Cách khác\n",
    "a = a.reshape([-1, 2])\n",
    "print('a=\\n', a)\n",
    "print('Đổi vị trí cột trong a')\n",
    "print(a[:, [1,0]])\n"
   ]
  },
  {
   "cell_type": "code",
   "execution_count": 112,
   "metadata": {},
   "outputs": [
    {
     "name": "stdout",
     "output_type": "stream",
     "text": [
      "[[ 0  1  2  3]\n",
      " [ 4  5  6  7]\n",
      " [ 8  9 10 11]]\n",
      "nditer duyệt các phần tử trong ma trận\n",
      "0, 1, 2, 3, 4, 5, 6, 7, 8, 9, 10, 11, "
     ]
    }
   ],
   "source": [
    "a = np.arange(12); a = a.reshape(3,4);\n",
    "print(a)\n",
    "print('nditer duyệt các phần tử trong ma trận')\n",
    "for x in np.nditer(a): print(x, end=', ')"
   ]
  },
  {
   "cell_type": "code",
   "execution_count": 69,
   "metadata": {},
   "outputs": [
    {
     "name": "stdout",
     "output_type": "stream",
     "text": [
      "a = [0, 1.5707963267948966, 1.0471975511965976, 3.141592653589793]\n",
      "Sin: [0.00000000e+00 1.00000000e+00 8.66025404e-01 1.22464680e-16]\n",
      "Arcsin: [0.00000000e+00 1.57079633e+00 1.04719755e+00 1.22464680e-16]\n",
      "Cos: [ 1.000000e+00  6.123234e-17  5.000000e-01 -1.000000e+00]\n",
      "Tan: [ 0.00000000e+00  1.63312394e+16  1.73205081e+00 -1.22464680e-16]\n",
      "Tanh: [0.         0.91715234 0.78071444 0.99627208]\n",
      "\n",
      "Chuyển radian sang độ\n",
      "radian:  [0.         0.52359878 1.04719755 1.57079633 2.0943951  2.61799388]\n",
      "độ:  [  0.  30.  60.  90. 120. 150.]\n",
      "Chuyển từ độ thành radian\n",
      "[0.         0.52359878 1.04719755 1.57079633 2.0943951  2.61799388]\n"
     ]
    }
   ],
   "source": [
    "# lượng giác\n",
    "a = [0, np.pi / 2, np.pi / 3, np.pi]\n",
    "print('a =', a)\n",
    "print('Sin:', np.sin(a))\n",
    "print('Arcsin:', np.arcsin(np.sin(a)))\n",
    "print('Cos:', np.cos(a))\n",
    "print('Tan:', np.tan(a))\n",
    "print('Tanh:', np.tanh(a))\n",
    "print('\\nChuyển radian sang độ')\n",
    "rad = np.arange(6)*np.pi/6 # 0=0 độ; pi/6=30 độ; pi/3=50 độ; pi/2=90 độ; 2pi/3=120 độ; 5pi/6=150 độ; pi=180 độ....\n",
    "print('radian: ', rad)\n",
    "radToDeg = np.degrees(rad)\n",
    "print('độ: ', radToDeg)\n",
    "# print(np.rad2deg(rad)) #Cách khác: rad2deg\n",
    "print('Chuyển từ độ thành radian')\n",
    "degToRad = np.deg2rad(radToDeg)\n",
    "print(degToRad)"
   ]
  },
  {
   "cell_type": "code",
   "execution_count": 86,
   "metadata": {},
   "outputs": [
    {
     "name": "stdout",
     "output_type": "stream",
     "text": [
      "a= [-1.72 -1.58 -0.2   0.2   0.5   1.5   1.7   2.  ]\n",
      "Làm tròn round:  [-1.7 -1.6 -0.2  0.2  0.5  1.5  1.7  2. ]\n",
      "Làm tròn rint:  [-2. -2. -0.  0.  0.  2.  2.  2.]\n",
      "Làm tròn ceil: [-1. -1. -0.  1.  1.  2.  2.  2.]\n",
      "Làm tròn floor: [-2. -2. -1.  0.  0.  1.  1.  2.]\n",
      "Làm tròn trunc: [-1. -1. -0.  0.  0.  1.  1.  2.]\n"
     ]
    }
   ],
   "source": [
    "# round : Làm tròn về số gần nhất, tùy chỉnh phần thập phân\n",
    "a = np.array([-1.72, -1.58, -0.2, 0.2, 0.5, 1.5, 1.7, 2.0])\n",
    "print('a=',a)\n",
    "print('Làm tròn round: ', np.round(a, decimals=1))\n",
    "# rint: làm tròn về số nguyên gần nhất\n",
    "print('Làm tròn rint: ', np.rint(a))\n",
    "# ceil: làm tròn lên (làm tròn về chiều dương vô cùng)\n",
    "print('Làm tròn ceil:', np.ceil(a))\n",
    "# floor: làm tròn xuống (làm tròn về chiều âm vô cùng)\n",
    "print('Làm tròn floor:', np.floor(a))\n",
    "# trunc: Làm tròn về 0\n",
    "print('Làm tròn trunc:', np.trunc(a))"
   ]
  },
  {
   "cell_type": "code",
   "execution_count": 91,
   "metadata": {},
   "outputs": [
    {
     "name": "stdout",
     "output_type": "stream",
     "text": [
      "[  6.3890561   19.08553692  53.59815003 147.4131591 ]\n",
      "[ 4.  8. 16. 32.]\n",
      "[0.30103    0.47712125 0.60205999 0.69897   ]\n",
      "[1.         1.5849625  2.         2.32192809]\n",
      "[1.09861229 1.38629436 1.60943791 1.79175947]\n"
     ]
    }
   ],
   "source": [
    "a = np.array([2, 3, 4, 5])\n",
    "print(np.expm1(a)) # e^x - 1 x thuộc a\n",
    "print(np.exp2(a)) # 2^x x thuộc a\n",
    "print(np.log10(a)) #log10(x) x thuộc a\n",
    "print(np.log2(a)) #log2(x) x thuộc a\n",
    "print(np.log1p(a)) #log(1 + x) x thuộc a"
   ]
  },
  {
   "cell_type": "code",
   "execution_count": null,
   "metadata": {},
   "outputs": [],
   "source": []
  }
 ],
 "metadata": {
  "kernelspec": {
   "display_name": "Python 3",
   "language": "python",
   "name": "python3"
  },
  "language_info": {
   "codemirror_mode": {
    "name": "ipython",
    "version": 3
   },
   "file_extension": ".py",
   "mimetype": "text/x-python",
   "name": "python",
   "nbconvert_exporter": "python",
   "pygments_lexer": "ipython3",
   "version": "3.8.3"
  }
 },
 "nbformat": 4,
 "nbformat_minor": 4
}

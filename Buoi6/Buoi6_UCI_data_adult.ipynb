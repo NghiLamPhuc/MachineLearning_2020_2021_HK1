{
 "cells": [
  {
   "cell_type": "code",
   "execution_count": 47,
   "metadata": {},
   "outputs": [
    {
     "name": "stdout",
     "output_type": "stream",
     "text": [
      "(32560, 15)\n",
      "Index(['39', ' State-gov', ' 77516', ' Bachelors', ' 13', ' Never-married',\n",
      "       ' Adm-clerical', ' Not-in-family', ' White', ' Male', ' 2174', ' 0',\n",
      "       ' 40', ' United-States', ' <=50K'],\n",
      "      dtype='object')\n"
     ]
    }
   ],
   "source": [
    "import numpy as np\n",
    "import pandas as pd\n",
    "df = pd.read_csv(\"Data/adult.data\")\n",
    "print(df.shape)\n",
    "print(df.columns)\n",
    "# print(df.head(5))"
   ]
  },
  {
   "cell_type": "code",
   "execution_count": 48,
   "metadata": {},
   "outputs": [
    {
     "name": "stdout",
     "output_type": "stream",
     "text": [
      "32560\n",
      "200\n"
     ]
    }
   ],
   "source": [
    "print(len(df))\n",
    "df = df.sample(n=200)\n",
    "print(len(df))"
   ]
  },
  {
   "cell_type": "code",
   "execution_count": 49,
   "metadata": {},
   "outputs": [
    {
     "name": "stdout",
     "output_type": "stream",
     "text": [
      "(200, 15)\n",
      "(200,)\n",
      "[' <=50K' ' <=50K' ' <=50K']\n"
     ]
    }
   ],
   "source": [
    "a = df.values\n",
    "print(a.shape)\n",
    "y = a[:,-1:]\n",
    "y = y.ravel()\n",
    "print(y.shape)\n",
    "print(y[:3])"
   ]
  },
  {
   "cell_type": "code",
   "execution_count": 50,
   "metadata": {},
   "outputs": [
    {
     "name": "stdout",
     "output_type": "stream",
     "text": [
      "[0 0 0 0 0 0 0 0 0 0]\n",
      "200\n",
      "51\n",
      "149\n"
     ]
    }
   ],
   "source": [
    "from sklearn.preprocessing import LabelEncoder\n",
    "LE = LabelEncoder()\n",
    "y = LE.fit_transform(y)\n",
    "print(y[:10])\n",
    "print(len(y))\n",
    "y1 = y[y==1]\n",
    "print(len(y1))\n",
    "y0 = y[y==0]\n",
    "print(len(y0))"
   ]
  },
  {
   "cell_type": "code",
   "execution_count": 41,
   "metadata": {
    "scrolled": true
   },
   "outputs": [
    {
     "name": "stdout",
     "output_type": "stream",
     "text": [
      "b's shape: (200, 6)\n",
      "       39   77516   13   2174     0   40\n",
      "30078  36   33394   13      0  1887   35\n",
      "18780  47  148576   15      0     0   35\n",
      "23718  44  173682   10      0     0   40\n",
      "12812  19  125591    7      0     0   40\n",
      "30283  66  132055    9      0  1825   40\n",
      "...    ..     ...  ...    ...   ...  ...\n",
      "24083  60  120163   13      0     0   40\n",
      "12318  29  203697   13      0     0   75\n",
      "906    24  202570   13      0     0   15\n",
      "9362   38  197077    9      0     0   40\n",
      "19929  66  169435    9      0     0   16\n",
      "\n",
      "[200 rows x 6 columns]\n",
      "X's shape: (200, 6)\n",
      "[[    36  33394     13      0   1887     35]\n",
      " [    47 148576     15      0      0     35]\n",
      " [    44 173682     10      0      0     40]]\n"
     ]
    }
   ],
   "source": [
    "b = df.select_dtypes(include=['float64', 'int64'])\n",
    "print(\"b's shape:\", b.shape)\n",
    "print(b)\n",
    "X = b.values\n",
    "print(\"X's shape:\", X.shape)\n",
    "print(X[:3])"
   ]
  },
  {
   "cell_type": "code",
   "execution_count": 51,
   "metadata": {},
   "outputs": [
    {
     "name": "stdout",
     "output_type": "stream",
     "text": [
      "[[0.32758621 0.02592557 0.78571429 0.         0.74087161 0.375     ]\n",
      " [0.51724138 0.24745072 0.92857143 0.         0.         0.375     ]\n",
      " [0.46551724 0.29573613 0.57142857 0.         0.         0.44444444]\n",
      " ...\n",
      " [0.12068966 0.35129532 0.78571429 0.         0.         0.09722222]\n",
      " [0.36206897 0.34073084 0.5        0.         0.         0.44444444]\n",
      " [0.84482759 0.28756804 0.5        0.         0.         0.11111111]]\n"
     ]
    }
   ],
   "source": [
    "from sklearn.preprocessing import MinMaxScaler\n",
    "scaler = MinMaxScaler()\n",
    "scaler.fit(X)\n",
    "X = scaler.transform(X)\n",
    "print(X)"
   ]
  },
  {
   "cell_type": "code",
   "execution_count": 53,
   "metadata": {},
   "outputs": [
    {
     "name": "stdout",
     "output_type": "stream",
     "text": [
      "(160, 6) (160,)\n",
      "(40, 6) (40,)\n"
     ]
    }
   ],
   "source": [
    "from sklearn.model_selection import train_test_split\n",
    "X_train, X_test, y_train, y_test = train_test_split(X, y, test_size=0.2, random_state = 2)\n",
    "print(X_train.shape, y_train.shape)\n",
    "print(X_test.shape, y_test.shape)\n"
   ]
  },
  {
   "cell_type": "code",
   "execution_count": 54,
   "metadata": {},
   "outputs": [
    {
     "name": "stdout",
     "output_type": "stream",
     "text": [
      "y_pred_svm:\n",
      " [0 0 0 0 0 0 0 0 0 0 0 0 0 0 0 0 0 0 0 0 0 0 0 0 0 0 0 0 0 0 0 0 0 0 0 0 0\n",
      " 0 0 0]\n",
      "y_true:\n",
      " [0 0 0 0 0 0 0 1 0 1 0 0 0 0 0 0 0 0 0 0 1 1 0 0 0 0 1 1 0 0 0 1 0 0 0 0 0\n",
      " 0 1 0]\n",
      "accuracy:\n",
      " 0.8\n"
     ]
    }
   ],
   "source": [
    "#svm\n",
    "from sklearn import svm\n",
    "from sklearn import metrics\n",
    "svm_classifier = svm.SVC(kernel='linear', gamma=0.01, C=100.)\n",
    "svm_classifier.fit(X_train, y_train)\n",
    "\n",
    "y_pred_svm = svm_classifier.predict(X_test)\n",
    "print('y_pred_svm:\\n', y_pred_svm)\n",
    "print('y_true:\\n', y_test)\n",
    "\n",
    "acc_score_svm = metrics.accuracy_score(y_pred_svm, y_test)\n",
    "print('accuracy:\\n', acc_score_svm)\n"
   ]
  },
  {
   "cell_type": "code",
   "execution_count": 55,
   "metadata": {},
   "outputs": [
    {
     "name": "stdout",
     "output_type": "stream",
     "text": [
      "y_pred:\n",
      " [0 0 0 0 0 0 0 0 0 0 0 0 0 0 0 0 0 0 1 0 1 0 0 1 0 0 0 0 0 0 0 0 0 1 0 1 0\n",
      " 0 0 0]\n",
      "y_true:\n",
      " [0 0 0 0 0 0 0 1 0 1 0 0 0 0 0 0 0 0 0 0 1 1 0 0 0 0 1 1 0 0 0 1 0 0 0 0 0\n",
      " 0 1 0]\n",
      "accuracy:\n",
      " 0.725\n"
     ]
    }
   ],
   "source": [
    "#Phan loai voi KNN\n",
    "from sklearn.neighbors import KNeighborsClassifier\n",
    "k = 5\n",
    "knn = KNeighborsClassifier(n_neighbors=k, metric='euclidean')\n",
    "knn.fit(X_train, y_train)\n",
    "\n",
    "y_pred = knn.predict(X_test)\n",
    "print('y_pred:\\n', y_pred)\n",
    "print('y_true:\\n', y_test)\n",
    "\n",
    "#Tính accuracy\n",
    "acc_score = metrics.accuracy_score(y_pred, y_test)\n",
    "print('accuracy:\\n', acc_score)"
   ]
  },
  {
   "cell_type": "code",
   "execution_count": 56,
   "metadata": {},
   "outputs": [
    {
     "name": "stdout",
     "output_type": "stream",
     "text": [
      "y_pred_logistic:\n",
      " [0 0 0 0 0 0 0 0 0 0 0 0 0 0 0 0 0 0 0 0 0 0 0 0 0 0 0 0 0 0 0 0 0 0 0 0 0\n",
      " 0 0 0]\n",
      "accuracy:\n",
      " 0.8\n"
     ]
    }
   ],
   "source": [
    "#Logistic Regression\n",
    "from sklearn.linear_model import LogisticRegression\n",
    "model = LogisticRegression()\n",
    "model = model.fit(X_train, y_train)\n",
    "y_pred_logistic = model.predict(X_test)\n",
    "print('y_pred_logistic:\\n', y_pred_logistic)\n",
    "acc_score_logistic = metrics.accuracy_score(y_pred_logistic, y_test)\n",
    "print('accuracy:\\n', acc_score_logistic)"
   ]
  },
  {
   "cell_type": "code",
   "execution_count": null,
   "metadata": {},
   "outputs": [],
   "source": []
  }
 ],
 "metadata": {
  "kernelspec": {
   "display_name": "Python 3",
   "language": "python",
   "name": "python3"
  },
  "language_info": {
   "codemirror_mode": {
    "name": "ipython",
    "version": 3
   },
   "file_extension": ".py",
   "mimetype": "text/x-python",
   "name": "python",
   "nbconvert_exporter": "python",
   "pygments_lexer": "ipython3",
   "version": "3.8.3"
  }
 },
 "nbformat": 4,
 "nbformat_minor": 4
}

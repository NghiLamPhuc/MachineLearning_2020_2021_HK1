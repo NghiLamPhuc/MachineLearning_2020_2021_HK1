{
 "cells": [
  {
   "cell_type": "code",
   "execution_count": 3,
   "metadata": {},
   "outputs": [
    {
     "name": "stdout",
     "output_type": "stream",
     "text": [
      "(698, 11)\n",
      "Index(['1000025', '5', '1', '1.1', '1.2', '2', '1.3', '3', '1.4', '1.5',\n",
      "       '2.1'],\n",
      "      dtype='object')\n"
     ]
    }
   ],
   "source": [
    "import numpy as np\n",
    "import pandas as pd\n",
    "df = pd.read_csv(\"Data/breast-cancer-wisconsin.data\")\n",
    "print(df.shape)\n",
    "print(df.columns)"
   ]
  },
  {
   "cell_type": "code",
   "execution_count": null,
   "metadata": {},
   "outputs": [],
   "source": [
    "# drop missing value\n"
   ]
  },
  {
   "cell_type": "code",
   "execution_count": 24,
   "metadata": {},
   "outputs": [
    {
     "name": "stdout",
     "output_type": "stream",
     "text": [
      "X = \n",
      " [[5 4 4 5 7 2 1]\n",
      " [3 1 1 1 2 1 1]\n",
      " [6 8 8 1 3 7 1]]\n",
      "y = \n",
      " [[2]\n",
      " [2]\n",
      " [2]]\n",
      "y = \n",
      " [2 2 2 2 4 2 2 2 2 2]\n"
     ]
    }
   ],
   "source": [
    "df = df.drop(df.columns[6], axis = 1)\n",
    "data = df.values\n",
    "X = data[:,1:-1]\n",
    "print('X = \\n', X[:3])\n",
    "y = data[:,-1:]\n",
    "print('y = \\n', y[:3])\n",
    "y = y.ravel()\n",
    "print('y = \\n', y[:10])"
   ]
  },
  {
   "cell_type": "code",
   "execution_count": 25,
   "metadata": {},
   "outputs": [
    {
     "name": "stdout",
     "output_type": "stream",
     "text": [
      "[0 0 0 0 1 0 0 0 0 0]\n"
     ]
    }
   ],
   "source": [
    "from sklearn.preprocessing import LabelEncoder\n",
    "LE = LabelEncoder()\n",
    "y = LE.fit_transform(y)\n",
    "print(y[:10])"
   ]
  },
  {
   "cell_type": "code",
   "execution_count": 26,
   "metadata": {},
   "outputs": [
    {
     "name": "stdout",
     "output_type": "stream",
     "text": [
      "(558, 7) (558,)\n",
      "(140, 7) (140,)\n"
     ]
    }
   ],
   "source": [
    "from sklearn.model_selection import train_test_split\n",
    "X_train, X_test, y_train, y_test = train_test_split(X, y, test_size = 0.2, random_state = 4)\n",
    "print(X_train.shape, y_train.shape)\n",
    "print(X_test.shape, y_test.shape)"
   ]
  },
  {
   "cell_type": "code",
   "execution_count": 27,
   "metadata": {},
   "outputs": [
    {
     "name": "stdout",
     "output_type": "stream",
     "text": [
      "y_pred:\n",
      " [1 0 1 0 1 1 0 0 0 0 0 0 0 1 0 1 1 0 0 0 0 0 1 1 0 1 0 0 0 0 1 1 0 1 0 0 0\n",
      " 1 0 0 1 1 0 1 0 1 0 0 1 0 0 0 1 1 0 0 1 1 1 1 1 0 0 1 0 0 0 1 0 1 0 0 0 0\n",
      " 0 0 1 1 0 0 1 0 1 0 0 0 0 0 0 0 0 0 1 1 0 1 0 0 0 0 1 0 0 0 1 0 1 0 1 0 0\n",
      " 0 0 0 0 1 1 0 0 1 1 1 0 0 1 0 0 0 0 0 1 1 0 0 0 1 0 0 0 1]\n",
      "y_true:\n",
      " [1 0 1 0 1 1 0 0 0 0 0 0 0 1 0 1 1 0 0 0 0 0 1 1 0 1 0 1 0 0 1 1 0 1 0 0 0\n",
      " 1 0 0 1 1 0 1 0 1 0 0 1 0 0 0 1 1 0 0 0 1 1 1 1 0 0 1 0 0 0 1 0 1 0 0 0 0\n",
      " 0 0 1 1 0 0 1 0 1 0 0 0 0 0 0 0 0 0 1 1 0 1 0 0 0 0 1 0 0 0 1 0 1 0 1 0 0\n",
      " 0 0 0 0 1 1 0 0 1 1 1 0 0 1 0 0 0 0 0 1 1 1 0 0 1 0 0 0 1]\n",
      "accuracy:\n",
      " 0.9785714285714285\n"
     ]
    }
   ],
   "source": [
    "#Phan loai voi KNN\n",
    "from sklearn.neighbors import KNeighborsClassifier\n",
    "from sklearn import metrics\n",
    "k = 5\n",
    "knn = KNeighborsClassifier(n_neighbors=k, metric='euclidean')\n",
    "knn.fit(X_train, y_train)\n",
    "\n",
    "y_pred = knn.predict(X_test)\n",
    "print('y_pred:\\n', y_pred)\n",
    "print('y_true:\\n', y_test)\n",
    "\n",
    "#Tính accuracy\n",
    "acc_score = metrics.accuracy_score(y_pred, y_test)\n",
    "print('accuracy:\\n', acc_score)"
   ]
  },
  {
   "cell_type": "code",
   "execution_count": 28,
   "metadata": {},
   "outputs": [
    {
     "name": "stdout",
     "output_type": "stream",
     "text": [
      "y_pred_svm:\n",
      " [1 0 0 0 1 1 0 0 0 0 0 0 0 1 0 1 1 0 0 0 0 0 1 1 0 1 0 1 0 0 1 1 0 1 0 0 0\n",
      " 1 0 0 1 1 0 1 0 1 0 0 1 0 0 0 1 1 0 0 1 1 1 1 1 0 0 1 0 0 0 1 0 1 0 0 0 0\n",
      " 0 0 1 1 0 0 1 0 1 0 0 0 0 0 0 0 0 0 1 1 0 1 0 0 0 0 1 0 0 0 1 0 1 0 1 1 0\n",
      " 0 0 0 0 1 1 0 0 1 1 1 0 0 1 0 0 0 0 0 1 1 0 0 0 1 0 0 0 1]\n",
      "y_true:\n",
      " [1 0 1 0 1 1 0 0 0 0 0 0 0 1 0 1 1 0 0 0 0 0 1 1 0 1 0 1 0 0 1 1 0 1 0 0 0\n",
      " 1 0 0 1 1 0 1 0 1 0 0 1 0 0 0 1 1 0 0 0 1 1 1 1 0 0 1 0 0 0 1 0 1 0 0 0 0\n",
      " 0 0 1 1 0 0 1 0 1 0 0 0 0 0 0 0 0 0 1 1 0 1 0 0 0 0 1 0 0 0 1 0 1 0 1 0 0\n",
      " 0 0 0 0 1 1 0 0 1 1 1 0 0 1 0 0 0 0 0 1 1 1 0 0 1 0 0 0 1]\n",
      "accuracy:\n",
      " 0.9714285714285714\n"
     ]
    }
   ],
   "source": [
    "#Ví dụ về SVM\n",
    "from sklearn import svm\n",
    "svm_classifier = svm.SVC(kernel='linear', gamma=0.01, C=100.)\n",
    "svm_classifier.fit(X_train, y_train)\n",
    "\n",
    "y_pred_svm = svm_classifier.predict(X_test)\n",
    "print('y_pred_svm:\\n', y_pred_svm)\n",
    "print('y_true:\\n', y_test)\n",
    "\n",
    "acc_score_svm = metrics.accuracy_score(y_pred_svm, y_test)\n",
    "print('accuracy:\\n', acc_score_svm)"
   ]
  },
  {
   "cell_type": "code",
   "execution_count": 29,
   "metadata": {},
   "outputs": [
    {
     "name": "stdout",
     "output_type": "stream",
     "text": [
      "y_pred_logistic:\n",
      " [1 0 0 0 1 1 0 0 0 0 0 0 0 1 0 1 1 0 0 0 0 0 1 1 0 1 0 1 0 0 1 1 0 1 0 0 0\n",
      " 1 0 0 1 1 0 1 0 1 0 0 1 0 0 0 1 1 0 0 1 1 1 1 1 0 0 1 0 0 0 1 0 1 0 0 0 0\n",
      " 0 0 1 1 0 0 1 0 1 0 0 0 0 0 0 0 0 0 1 1 0 1 0 0 0 0 1 0 0 0 1 0 1 0 1 1 0\n",
      " 0 0 0 0 1 1 0 0 1 1 1 0 0 1 0 0 0 0 0 1 1 0 0 0 1 0 0 0 1]\n",
      "accuracy:\n",
      " 0.9714285714285714\n"
     ]
    }
   ],
   "source": [
    "#Thử nghiệm với Logistic Regression\n",
    "from sklearn.linear_model import LogisticRegression\n",
    "model = LogisticRegression()\n",
    "model = model.fit(X_train, y_train)\n",
    "y_pred_logistic = model.predict(X_test)\n",
    "print('y_pred_logistic:\\n', y_pred_logistic)\n",
    "acc_score_logistic = metrics.accuracy_score(y_pred_logistic, y_test)\n",
    "print('accuracy:\\n', acc_score_logistic)"
   ]
  },
  {
   "cell_type": "code",
   "execution_count": null,
   "metadata": {},
   "outputs": [],
   "source": []
  }
 ],
 "metadata": {
  "kernelspec": {
   "display_name": "Python 3",
   "language": "python",
   "name": "python3"
  },
  "language_info": {
   "codemirror_mode": {
    "name": "ipython",
    "version": 3
   },
   "file_extension": ".py",
   "mimetype": "text/x-python",
   "name": "python",
   "nbconvert_exporter": "python",
   "pygments_lexer": "ipython3",
   "version": "3.8.3"
  }
 },
 "nbformat": 4,
 "nbformat_minor": 4
}

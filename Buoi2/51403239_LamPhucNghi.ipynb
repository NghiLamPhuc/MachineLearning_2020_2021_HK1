{
 "cells": [
  {
   "cell_type": "code",
   "execution_count": 2,
   "metadata": {},
   "outputs": [],
   "source": [
    "import numpy as np\n",
    "#import matplotlib.pyplot as plt\n",
    "# lacuong@it.tdt.edu.vn "
   ]
  },
  {
   "cell_type": "code",
   "execution_count": 3,
   "metadata": {},
   "outputs": [
    {
     "name": "stdout",
     "output_type": "stream",
     "text": [
      "(2, 7)\n",
      "one:\n",
      " [[1.]\n",
      " [1.]\n",
      " [1.]\n",
      " [1.]\n",
      " [1.]\n",
      " [1.]\n",
      " [1.]]\n",
      "X:\n",
      " [[1.  1.5]\n",
      " [2.  2.5]\n",
      " [3.  3.5]\n",
      " [4.  4.5]\n",
      " [5.  5.5]\n",
      " [6.  6.5]\n",
      " [7.  7.5]]\n",
      "X new:\n",
      " [[1.  1.  1.5]\n",
      " [1.  2.  2.5]\n",
      " [1.  3.  3.5]\n",
      " [1.  4.  4.5]\n",
      " [1.  5.  5.5]\n",
      " [1.  6.  6.5]\n",
      " [1.  7.  7.5]]\n"
     ]
    }
   ],
   "source": [
    "X = np.array([[1,   2,   3,   4,   5,   6,   7],\n",
    "              [1.5, 2.5, 3.5, 4.5, 5.5, 6.5, 7.5]])  #X la` ma?ng 2 chie^`u, chie^`u thu 1 co length = 2, co`n lai = 7.\n",
    "y = np.array([[2,   4,   6,   8,   10,  12,  14]])   #y la` ma?ng 2 chie^`u, (1x7).\n",
    "print(X.shape)\n",
    "one = np.ones((X.shape[1], 1)) #Tao ma?ng-so-1, voi shape la (X.shape[1], 1). Tuc la` ma?ng-so-1, 2 chie^`u, (7x1).\n",
    "print('one:\\n', one)\n",
    "# X = np.array(X).T\n",
    "X = X.T #Chuyen vi cua X, X tro thanh mang 2 (7x2).\n",
    "print('X:\\n', X)\n",
    "X = np.concatenate((one, X), axis=1) #Ghep mảng X vào one theo cột-column (axis=1). X tro thanh ma?ng 2 chieu, (7x3).\n",
    "# f(x) = w1.x1 + w2.x2 + ... + w7.x7 + w0.1          Do co them so bias la w0, nen them 1 vao X.\n",
    "y = np.array(y).T              # y tro thanh ma?ng (7x1)\n",
    "print('X new:\\n', X)"
   ]
  },
  {
   "cell_type": "code",
   "execution_count": 4,
   "metadata": {},
   "outputs": [],
   "source": [
    "# step 1: initialize and forward propagate  \n",
    "# y = w_1 * x + w_0\n",
    "def f(X, W):\n",
    "    return np.dot(X,W)\n",
    "# f(x) = w1x1 + w2x2 + ... + w7x7 + w0\n",
    "# Dat w = [w0, w1, .. , w7].T; X = [1, x1, .. , x7]     Do co them so bias w0 => X them 1.\n",
    "# f(x) = wX  = y_hat    voi y_hat la gia tri du doan, se tim sai so voi y.     w vector cot, X vector ha`ng."
   ]
  },
  {
   "cell_type": "code",
   "execution_count": 5,
   "metadata": {},
   "outputs": [],
   "source": [
    "# step 2: loss function\n",
    "# Ham ma^'t ma't la tim sai so giua y va y_hat, y_hat = f(X, W).\n",
    "# X va y khong doi => Ca^`n ti`m W de ha`m loss to^'u uu, ma` de ti`m toi uu,\n",
    "#                                                                cach pho bien la giai bai toan dao ham (gradient) bang 0.\n",
    "# loss = 1/2N . sigma(y_hat - y)^2, y_hat = f(X, W).\n",
    "\n",
    "def loss(X, Y):\n",
    "    sum = 0\n",
    "    for i in range(len(X)):\n",
    "        sum += (f(X[i], W) - Y[i])**2       # Dung binh phuong vi luon co dao ham, co`n tri tuyet doi tai 0 la khong xac dinh.\n",
    "#     return sum/len(X)                     # Theo slide, em thay ham Loss = 1/2*N....\n",
    "    return sum / 2*len(X)"
   ]
  },
  {
   "cell_type": "code",
   "execution_count": 6,
   "metadata": {},
   "outputs": [],
   "source": [
    "# step 3: Differentiation\n",
    "def derivate(X, Y, W):\n",
    "    d=[]\n",
    "    for k in range(X.shape[1]):\n",
    "        sum = 0\n",
    "        for i in range(X.shape[0]):\n",
    "            sum += (f(X[i], W) - Y[i]) * X[i][k]\n",
    "        d.append(sum / X.shape[0])\n",
    "    return np.array(d)"
   ]
  },
  {
   "cell_type": "code",
   "execution_count": 7,
   "metadata": {},
   "outputs": [
    {
     "name": "stdout",
     "output_type": "stream",
     "text": [
      "[[ 29.5 ]\n",
      " [144.  ]\n",
      " [158.75]]\n",
      "[[ 2.95 ]\n",
      " [14.4  ]\n",
      " [15.875]]\n",
      "[[ -1.95 ]\n",
      " [-10.9  ]\n",
      " [-10.875]]\n"
     ]
    }
   ],
   "source": [
    "#test\n",
    "W = np.array([[1, 3.5, 5]]).T\n",
    "d = derivate(X, y, W)\n",
    "print(d)\n",
    "d = 0.1*d\n",
    "print(d)\n",
    "W=W-d\n",
    "print(W)"
   ]
  },
  {
   "cell_type": "code",
   "execution_count": 8,
   "metadata": {},
   "outputs": [
    {
     "name": "stdout",
     "output_type": "stream",
     "text": [
      "0 :  [1960.]\n",
      "1 :  [593.341]\n",
      "2 :  [180.67524173]\n",
      "3 :  [56.06566793]\n",
      "4 :  [18.43404938]\n",
      "5 :  [7.0652571]\n",
      "6 :  [3.62649141]\n",
      "7 :  [2.58220368]\n",
      "8 :  [2.2609471]\n",
      "9 :  [2.15803187]\n",
      "10 :  [2.12106794]\n",
      "11 :  [2.10404136]\n",
      "12 :  [2.09305823]\n",
      "W:\n",
      "[[0.16424169]\n",
      " [0.89228794]\n",
      " [0.97440878]]\n"
     ]
    }
   ],
   "source": [
    "# step 4: update weight \n",
    "epoch = 50\n",
    "learning_rate = 0.01\n",
    "epsilon = 0.01\n",
    "W = np.array([[0,0,0]]).T\n",
    "for iter in range(epoch):\n",
    "    before_loss = loss(X,y)\n",
    "    print(iter,': ',before_loss) \n",
    "    d = derivate(X,y,W)\n",
    "    W = W - learning_rate*d\n",
    "    if before_loss-loss(X,y) < epsilon:\n",
    "        break \n",
    "# print result \n",
    "print('W:')\n",
    "print(W)\n",
    "# Sau moi epoch, loss giam dan cho toi lan thu 12.\n",
    "# f(x) = 0.16424169x_1 + 0.89228794x_2 + 0.97440878x_3"
   ]
  },
  {
   "cell_type": "code",
   "execution_count": null,
   "metadata": {},
   "outputs": [],
   "source": []
  }
 ],
 "metadata": {
  "kernelspec": {
   "display_name": "Python 3",
   "language": "python",
   "name": "python3"
  },
  "language_info": {
   "codemirror_mode": {
    "name": "ipython",
    "version": 3
   },
   "file_extension": ".py",
   "mimetype": "text/x-python",
   "name": "python",
   "nbconvert_exporter": "python",
   "pygments_lexer": "ipython3",
   "version": "3.7.7"
  }
 },
 "nbformat": 4,
 "nbformat_minor": 4
}

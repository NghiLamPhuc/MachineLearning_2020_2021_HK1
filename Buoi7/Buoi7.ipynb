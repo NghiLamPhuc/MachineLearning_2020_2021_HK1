{
 "cells": [
  {
   "cell_type": "code",
   "execution_count": 34,
   "metadata": {
    "scrolled": false
   },
   "outputs": [
    {
     "name": "stdout",
     "output_type": "stream",
     "text": [
      "(1460, 81)\n",
      "   Id  MSSubClass MSZoning  LotFrontage  LotArea Street Alley LotShape  \\\n",
      "0   1          60       RL         65.0     8450   Pave   NaN      Reg   \n",
      "\n",
      "  LandContour Utilities  ... PoolArea PoolQC Fence MiscFeature MiscVal MoSold  \\\n",
      "0         Lvl    AllPub  ...        0    NaN   NaN         NaN       0      2   \n",
      "\n",
      "  YrSold  SaleType  SaleCondition  SalePrice  \n",
      "0   2008        WD         Normal     208500  \n",
      "\n",
      "[1 rows x 81 columns]\n"
     ]
    }
   ],
   "source": [
    "import numpy as np\n",
    "import pandas as pd\n",
    "df = pd.read_csv(\"Data/house_train.csv\")\n",
    "print(df.shape)\n",
    "# print(df.columns)\n",
    "print(df.head(1))\n"
   ]
  },
  {
   "cell_type": "code",
   "execution_count": 35,
   "metadata": {},
   "outputs": [
    {
     "name": "stdout",
     "output_type": "stream",
     "text": [
      "(1460, 38)\n"
     ]
    }
   ],
   "source": [
    "b = df.select_dtypes(include=['float', 'int', 'float64', 'int64'])\n",
    "print(b.shape)\n",
    "# print(b[:3])"
   ]
  },
  {
   "cell_type": "code",
   "execution_count": 36,
   "metadata": {},
   "outputs": [
    {
     "name": "stdout",
     "output_type": "stream",
     "text": [
      "['LotArea', 'MasVnrArea', 'GrLivArea', 'GarageArea', 'PoolArea']\n"
     ]
    }
   ],
   "source": [
    "list_heads = df.columns.tolist()\n",
    "# print(list_heads)\n",
    "selected_head = [x for x in list_heads if 'Area' in x]\n",
    "print(selected_head)"
   ]
  },
  {
   "cell_type": "code",
   "execution_count": 37,
   "metadata": {
    "scrolled": true
   },
   "outputs": [
    {
     "name": "stdout",
     "output_type": "stream",
     "text": [
      "      LotArea  MasVnrArea  GrLivArea  GarageArea  PoolArea\n",
      "0        8450       196.0       1710         548         0\n",
      "1        9600         0.0       1262         460         0\n",
      "2       11250       162.0       1786         608         0\n",
      "3        9550         0.0       1717         642         0\n",
      "4       14260       350.0       2198         836         0\n",
      "...       ...         ...        ...         ...       ...\n",
      "1455     7917         0.0       1647         460         0\n",
      "1456    13175       119.0       2073         500         0\n",
      "1457     9042         0.0       2340         252         0\n",
      "1458     9717         0.0       1078         240         0\n",
      "1459     9937         0.0       1256         276         0\n",
      "\n",
      "[1460 rows x 5 columns]\n"
     ]
    }
   ],
   "source": [
    "new_data = b[selected_head]\n",
    "print(new_data)"
   ]
  },
  {
   "cell_type": "code",
   "execution_count": 38,
   "metadata": {},
   "outputs": [
    {
     "name": "stdout",
     "output_type": "stream",
     "text": [
      "[[0.0334198  0.1225     0.25923135 0.3864598  0.        ]\n",
      " [0.03879502 0.         0.17483044 0.32440056 0.        ]\n",
      " [0.04650728 0.10125    0.27354936 0.42877292 0.        ]\n",
      " ...\n",
      " [0.03618687 0.         0.37792012 0.17771509 0.        ]\n",
      " [0.03934189 0.         0.14016579 0.16925247 0.        ]\n",
      " [0.04037019 0.         0.17370008 0.19464034 0.        ]]\n"
     ]
    }
   ],
   "source": [
    "from sklearn.preprocessing import MinMaxScaler\n",
    "scaler = MinMaxScaler()\n",
    "scaler.fit(new_data)\n",
    "new_data = scaler.transform(new_data)\n",
    "print(new_data)"
   ]
  },
  {
   "cell_type": "code",
   "execution_count": 39,
   "metadata": {
    "scrolled": true
   },
   "outputs": [
    {
     "name": "stdout",
     "output_type": "stream",
     "text": [
      "[[0.0334198  0.1225     0.25923135 0.3864598  0.        ]\n",
      " [0.03879502 0.         0.17483044 0.32440056 0.        ]\n",
      " [0.04650728 0.10125    0.27354936 0.42877292 0.        ]\n",
      " [0.03856131 0.         0.26055011 0.45275035 0.        ]\n",
      " [0.06057632 0.21875    0.35116805 0.58956276 0.        ]\n",
      " [0.05989857 0.         0.19366993 0.33850494 0.        ]\n",
      " [0.04105728 0.11625    0.25621703 0.44851904 0.        ]\n",
      " [0.04245016 0.15       0.3308214  0.34132581 0.        ]\n",
      " [0.02252915 0.         0.27128862 0.33004231 0.        ]\n",
      " [0.02860548 0.         0.13997739 0.14456982 0.        ]\n",
      " [0.04627357 0.         0.13300678 0.27080395 0.        ]\n",
      " [0.04965762 0.17875    0.3749058  0.5190409  0.        ]\n",
      " [0.05453738 0.         0.10889224 0.24823695 0.        ]\n",
      " [0.04371217 0.19125    0.21853806 0.59238364 0.        ]\n",
      " [0.04496483 0.1325     0.17313489 0.24823695 0.        ]\n",
      " [0.02252915 0.         0.09796534 0.40620592 0.        ]\n",
      " [0.04646521 0.1125     0.12622457 0.33850494 0.        ]\n",
      " [0.04436187 0.         0.18123587 0.36389281 0.        ]\n",
      " [0.05793545 0.         0.146948   0.40620592 0.        ]\n",
      " [0.02925986 0.         0.18933685 0.20733427 0.        ]\n",
      " [0.06036598 0.2375     0.38470234 0.60155148 0.        ]\n",
      " [0.02874103 0.         0.14581763 0.19746121 0.        ]\n",
      " [0.03945874 0.175625   0.27524491 0.37658674 0.        ]\n",
      " [0.01366706 0.         0.13677468 0.40338505 0.        ]\n",
      " [0.03246629 0.         0.13677468 0.19040903 0.        ]\n",
      " [0.06043609 0.4        0.23850791 0.62764457 0.        ]\n",
      " [0.02757718 0.         0.1066315  0.40620592 0.        ]\n",
      " [0.04757297 0.125      0.25810098 0.54442877 0.        ]\n",
      " [0.07020963 0.         0.23850791 0.22496474 0.        ]\n",
      " [0.02348267 0.         0.03504145 0.16925247 0.        ]\n",
      " [0.03365351 0.         0.18519216 0.17630465 0.        ]\n",
      " [0.03385917 0.         0.16842502 0.19111425 0.        ]\n",
      " [0.04556779 0.         0.16955539 0.34132581 0.        ]\n",
      " [0.04324476 0.         0.2573474  0.31523272 0.        ]\n",
      " [0.02810535 0.15375    0.23116051 0.39210155 0.        ]\n",
      " [0.05664073 0.0825     0.39902035 0.48730606 0.        ]\n",
      " [0.04467971 0.         0.14374529 0.47390691 0.        ]\n",
      " [0.03380308 0.40625    0.18142427 0.35119887 0.        ]\n",
      " [0.03095188 0.         0.1362095  0.17348378 0.        ]\n",
      " [0.02215523 0.         0.15410701 0.         0.        ]\n",
      " [0.03439202 0.063125   0.18651093 0.31029619 0.        ]\n",
      " [0.07293931 0.         0.18726451 0.21720733 0.        ]\n",
      " [0.0368319  0.         0.10361718 0.35543018 0.        ]\n",
      " [0.03692538 0.         0.1137905  0.21720733 0.        ]\n",
      " [0.03105938 0.         0.15373022 0.21156559 0.        ]\n",
      " [0.02971792 0.2575     0.26714393 0.40620592 0.        ]\n",
      " [0.05385496 0.         0.3419367  0.47249647 0.        ]\n",
      " [0.04578747 0.         0.24905803 0.58251058 0.        ]\n",
      " [0.01475145 0.         0.21062547 0.         0.        ]\n",
      " [0.03011054 0.         0.11699322 0.27221439 0.        ]]\n",
      "(50, 5)\n"
     ]
    }
   ],
   "source": [
    "X_train = new_data[:50]\n",
    "X_test = new_data[51:61]\n",
    "print(X_train)\n",
    "print(X_train.shape)"
   ]
  },
  {
   "cell_type": "code",
   "execution_count": 40,
   "metadata": {},
   "outputs": [],
   "source": [
    "# selected_label = [x for x in list_heads if x == 'SalePrice']\n",
    "# print(selected_label)"
   ]
  },
  {
   "cell_type": "code",
   "execution_count": 41,
   "metadata": {},
   "outputs": [],
   "source": [
    "# new_label = b[selected_label]\n",
    "# print(new_label)"
   ]
  },
  {
   "cell_type": "code",
   "execution_count": 42,
   "metadata": {},
   "outputs": [],
   "source": [
    "# y_train = new_label[:50]\n",
    "# y_test = new_label[51:61]\n",
    "# print(y_train)\n",
    "# print(y_test)"
   ]
  },
  {
   "cell_type": "code",
   "execution_count": 44,
   "metadata": {},
   "outputs": [
    {
     "name": "stdout",
     "output_type": "stream",
     "text": [
      "(1460, 1)\n",
      "[0.1105402  0.10429107 0.48618247 0.13206499 0.20219414 0.19108457\n",
      " 0.22441328 0.56086655 0.12498264 0.17094848]\n"
     ]
    }
   ],
   "source": [
    "y = df[['SalePrice']]\n",
    "print(y.shape)\n",
    "\n",
    "scaler = MinMaxScaler()\n",
    "scaler.fit(y)\n",
    "y = scaler.transform(y)\n",
    "y = y.ravel()\n",
    "\n",
    "y_train = y[:50]\n",
    "y_test = y[51:61]\n",
    "# print(y_train)\n",
    "print(y_test)"
   ]
  },
  {
   "cell_type": "code",
   "execution_count": 75,
   "metadata": {},
   "outputs": [
    {
     "name": "stdout",
     "output_type": "stream",
     "text": [
      "y_pred (scaled price):\n",
      " [0.16434254 0.1296591  0.38112744 0.19248395 0.23849348 0.26185374\n",
      " 0.23712855 0.50390867 0.09560368 0.18401168]\n",
      "y_true:\n",
      " [0.1105402  0.10429107 0.48618247 0.13206499 0.20219414 0.19108457\n",
      " 0.22441328 0.56086655 0.12498264 0.17094848]\n",
      "Real price predicted:\n",
      " [[153243.06136791]\n",
      " [128267.51881495]\n",
      " [309349.86974866]\n",
      " [173507.69062669]\n",
      " [206639.15289472]\n",
      " [223460.87677178]\n",
      " [205656.26590605]\n",
      " [397764.63000453]\n",
      " [103744.21284905]\n",
      " [167406.80749206]]\n",
      "Real price:\n",
      " [[114500.]\n",
      " [110000.]\n",
      " [385000.]\n",
      " [130000.]\n",
      " [180500.]\n",
      " [172500.]\n",
      " [196500.]\n",
      " [438780.]\n",
      " [124900.]\n",
      " [158000.]]\n",
      "MAE test score:  33400.26612719063\n",
      "RMSE test score:  38772.42294763431\n"
     ]
    }
   ],
   "source": [
    "from sklearn.linear_model import LinearRegression\n",
    "from sklearn import metrics\n",
    "\n",
    "model = LinearRegression()\n",
    "model.fit(X_train, y_train)\n",
    "\n",
    "y_pred = model.predict(X_test)\n",
    "print('y_pred (scaled price):\\n', y_pred)\n",
    "print('y_true:\\n', y_test)\n",
    "\n",
    "y_pred1 = [[x] for x in y_pred]\n",
    "y_original = scaler.inverse_transform(y_pred1)\n",
    "print('Real price predicted:\\n', y_original)\n",
    "\n",
    "y_true1 = [[x] for x in y_test]\n",
    "y_test_original = scaler.inverse_transform(y_true1)\n",
    "print('Real price:\\n', y_test_original)\n",
    "\n",
    "from sklearn.metrics import mean_absolute_error, mean_squared_error\n",
    "\n",
    "print('MAE test score: ', mean_absolute_error(y_test_original, y_original))\n",
    "print('RMSE test score: ', mean_squared_error(y_test_original, y_original)**0.5)"
   ]
  },
  {
   "cell_type": "code",
   "execution_count": 79,
   "metadata": {},
   "outputs": [
    {
     "name": "stdout",
     "output_type": "stream",
     "text": [
      "MSE = [1.50330078e+09]\n",
      "RMSE = [38772.42294763]\n",
      "MAE = [33400.26612719]\n"
     ]
    }
   ],
   "source": [
    "M_S_E = 0\n",
    "M_A_E = 0\n",
    "for cur in range(len(y_pred1)):\n",
    "    M_S_E += (y_original[cur] - y_test_original[cur])**2\n",
    "    M_A_E += abs(y_original[cur] - y_test_original[cur])\n",
    "\n",
    "M_S_E = M_S_E / len(y_pred1)\n",
    "R_M_S_E = M_S_E**0.5\n",
    "M_A_E = M_A_E / len(y_pred1)\n",
    "\n",
    "print('MSE = {}'.format(M_S_E))\n",
    "print('RMSE = {}'.format(R_M_S_E))\n",
    "print('MAE = {}'.format(M_A_E))\n"
   ]
  },
  {
   "cell_type": "code",
   "execution_count": null,
   "metadata": {},
   "outputs": [],
   "source": []
  }
 ],
 "metadata": {
  "kernelspec": {
   "display_name": "Python 3",
   "language": "python",
   "name": "python3"
  },
  "language_info": {
   "codemirror_mode": {
    "name": "ipython",
    "version": 3
   },
   "file_extension": ".py",
   "mimetype": "text/x-python",
   "name": "python",
   "nbconvert_exporter": "python",
   "pygments_lexer": "ipython3",
   "version": "3.8.3"
  }
 },
 "nbformat": 4,
 "nbformat_minor": 4
}

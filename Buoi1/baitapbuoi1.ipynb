{
 "cells": [
  {
   "cell_type": "code",
   "execution_count": 10,
   "metadata": {},
   "outputs": [
    {
     "name": "stdout",
     "output_type": "stream",
     "text": [
      "Even list: 0 2 4 6 8\n",
      "Odd list: 1 3 5 7 9\n"
     ]
    }
   ],
   "source": [
    "l1 = [0,1,2,3,4,5,6,7,8,9]\n",
    "def bai1(l: list):\n",
    "    evenList = [n for n in l if n%2 == 0]\n",
    "    oddList = [n for n in l if n%2 != 0]\n",
    "    print('Even list:', *evenList)\n",
    "    print('Odd list:', *oddList)\n",
    "bai1(l1)"
   ]
  },
  {
   "cell_type": "code",
   "execution_count": 14,
   "metadata": {},
   "outputs": [
    {
     "name": "stdout",
     "output_type": "stream",
     "text": [
      "Number: 0, 1, 2, 3\n",
      "String: this is string 1, day la string 2\n"
     ]
    }
   ],
   "source": [
    "l2 = ['this is string 1', 0, 1, 2, 3, 'day la string 2']\n",
    "def bai2(inputList: list):\n",
    "    numberList = [item for item in inputList if isinstance(item, int)]\n",
    "    strList = [item for item in inputList if isinstance(item, str)]\n",
    "    print('Number: ', end='')\n",
    "    print(*numberList, sep=', ')\n",
    "    print('String: ', end='')\n",
    "    print(*strList, sep=', ')\n",
    "bai2(l2)"
   ]
  },
  {
   "cell_type": "code",
   "execution_count": 31,
   "metadata": {},
   "outputs": [
    {
     "name": "stdout",
     "output_type": "stream",
     "text": [
      "[[0 1 2]\n",
      " [3 4 5]\n",
      " [6 7 8]]\n",
      " x\n",
      " [[ 1  1]\n",
      " [-2  2]\n",
      " [-1 -1]]\n",
      " =\n",
      " [[ -4   0]\n",
      " [-10   6]\n",
      " [-16  12]]\n"
     ]
    }
   ],
   "source": [
    "mat1 = [[0,1,2],[3,4,5],[6,7,8]]\n",
    "mat2 = [[1,1],[-2,2],[-1,-1]]\n",
    "\n",
    "import numpy\n",
    "mat1 = numpy.array(mat1); mat2 = numpy.array(mat2)\n",
    "print('{}\\n x\\n {}\\n =\\n {}'.format(mat1, mat2, mat1.dot(mat2)))\n",
    "# print(mat1.dot(mat2))"
   ]
  },
  {
   "cell_type": "code",
   "execution_count": null,
   "metadata": {},
   "outputs": [],
   "source": []
  }
 ],
 "metadata": {
  "kernelspec": {
   "display_name": "Python 3",
   "language": "python",
   "name": "python3"
  },
  "language_info": {
   "codemirror_mode": {
    "name": "ipython",
    "version": 3
   },
   "file_extension": ".py",
   "mimetype": "text/x-python",
   "name": "python",
   "nbconvert_exporter": "python",
   "pygments_lexer": "ipython3",
   "version": "3.7.6"
  }
 },
 "nbformat": 4,
 "nbformat_minor": 4
}

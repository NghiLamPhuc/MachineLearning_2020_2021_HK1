{
 "cells": [
  {
   "cell_type": "code",
   "execution_count": 5,
   "metadata": {},
   "outputs": [
    {
     "name": "stdout",
     "output_type": "stream",
     "text": [
      "0.23.1\n"
     ]
    }
   ],
   "source": [
    "import numpy as np\n",
    "from sklearn.linear_model import LogisticRegression\n",
    "# import sklearn\n",
    "# print(sklearn.__version__)"
   ]
  },
  {
   "cell_type": "code",
   "execution_count": 3,
   "metadata": {},
   "outputs": [],
   "source": [
    "# print(np.__doc__)"
   ]
  },
  {
   "cell_type": "code",
   "execution_count": 28,
   "metadata": {},
   "outputs": [
    {
     "name": "stdout",
     "output_type": "stream",
     "text": [
      "(20, 2)\n",
      "(20, 1)\n"
     ]
    }
   ],
   "source": [
    "# X = np.array([[0.1, 2  , 3  , 4  , 5  , 6  , 7],\n",
    "#               [0.1, 2.2, 3.5, 4.3, 5.1, 6.8, 7.2]])\n",
    "# y = np.array([[0  , 0  , 0  , 0  , 1  , 1  , 1]])\n",
    "\n",
    "#So gio tu hoc (0-6), so bai tap da lam (0-10) ==> dau hoac rot.\n",
    "# X = np.array([[.5, .75, 1, 1.25, 1.5, 1.75, 1.75, 2, 2.25, 2.5, 2.75, 3, 3.25, 3.5, 4, 4.25, 4.5, 4.75, 5, 5.5]])\n",
    "# y = np.array([[0 , 0  , 0, 0   , 0  , 0   , 1   , 0, 1   , 0  , 1   , 0, 1   , 0  , 1, 1   , 1  , 1   , 1, 1]])\n",
    "\n",
    "X = np.array([[.5, .75, 1, 1.25, 1.5, 1.75, 1.75, 2, 2.25, 2.5, 2.75, 3, 3.25, 3.5, 4, 4.25, 4.5, 4.75, 5, 5.5],\n",
    "              [0 , 2  , 5, 2   , 3  , 10  , 5   , 8, 4   , 9  , 1   , 0, 7   , 6  , 8, 9   , 5  , 4   , 0, 5]])\n",
    "\n",
    "y = np.array([[0 , 0  , 1, 0   , 0  , 1   , 1   , 1, 0   , 1  , 0   , 0, 1   , 1  , 1, 1   , 1  , 0   , 0, 1]])\n",
    "\n",
    "X = np.array(X).T\n",
    "y = np.array(y).T\n",
    "print(X.shape)\n",
    "print(y.shape)\n",
    "# print(X)\n",
    "# print(y)"
   ]
  },
  {
   "cell_type": "code",
   "execution_count": 29,
   "metadata": {},
   "outputs": [
    {
     "name": "stderr",
     "output_type": "stream",
     "text": [
      "C:\\Users\\lamph\\anaconda3\\lib\\site-packages\\sklearn\\utils\\validation.py:73: DataConversionWarning: A column-vector y was passed when a 1d array was expected. Please change the shape of y to (n_samples, ), for example using ravel().\n",
      "  return f(**kwargs)\n"
     ]
    }
   ],
   "source": [
    "model = LogisticRegression()\n",
    "model = model.fit(X, y)"
   ]
  },
  {
   "cell_type": "code",
   "execution_count": 36,
   "metadata": {},
   "outputs": [
    {
     "name": "stdout",
     "output_type": "stream",
     "text": [
      "[1 0 0 1]\n"
     ]
    }
   ],
   "source": [
    "# X_test = np.array([[2.1, 2],\n",
    "#                    [6.1, 5.8],\n",
    "#                    [3  , 2.1]])\n",
    "# X_test = np.array([[1.75], [6], [1.75], [3.5]])\n",
    "X_test = np.array([[1.75, 10], [6, 0], [1.75, 4], [3.5, 5]])\n",
    "y_pred = model.predict(X_test)\n",
    "print(y_pred)"
   ]
  },
  {
   "cell_type": "code",
   "execution_count": 31,
   "metadata": {},
   "outputs": [
    {
     "name": "stdout",
     "output_type": "stream",
     "text": [
      "[[1.93032121e-04 9.99806968e-01]\n",
      " [9.97982588e-01 2.01741221e-03]\n",
      " [5.93678562e-01 4.06321438e-01]\n",
      " [9.91769230e-01 8.23077014e-03]]\n"
     ]
    }
   ],
   "source": [
    "y_prob = model.predict_proba(X_test)\n",
    "print(y_prob) # The returned estimates for all classes are ordered by the label of classes."
   ]
  },
  {
   "cell_type": "code",
   "execution_count": 13,
   "metadata": {},
   "outputs": [
    {
     "name": "stdout",
     "output_type": "stream",
     "text": [
      "\n",
      "        Probability estimates.\n",
      "\n",
      "        The returned estimates for all classes are ordered by the\n",
      "        label of classes.\n",
      "\n",
      "        For a multi_class problem, if multi_class is set to be \"multinomial\"\n",
      "        the softmax function is used to find the predicted probability of\n",
      "        each class.\n",
      "        Else use a one-vs-rest approach, i.e calculate the probability\n",
      "        of each class assuming it to be positive using the logistic function.\n",
      "        and normalize these values across all the classes.\n",
      "\n",
      "        Parameters\n",
      "        ----------\n",
      "        X : array-like of shape (n_samples, n_features)\n",
      "            Vector to be scored, where `n_samples` is the number of samples and\n",
      "            `n_features` is the number of features.\n",
      "\n",
      "        Returns\n",
      "        -------\n",
      "        T : array-like of shape (n_samples, n_classes)\n",
      "            Returns the probability of the sample for each class in the model,\n",
      "            where classes are ordered as they are in ``self.classes_``.\n",
      "        \n"
     ]
    }
   ],
   "source": [
    "print(model.predict_proba.__doc__)"
   ]
  },
  {
   "cell_type": "code",
   "execution_count": null,
   "metadata": {},
   "outputs": [],
   "source": []
  }
 ],
 "metadata": {
  "kernelspec": {
   "display_name": "Python 3",
   "language": "python",
   "name": "python3"
  },
  "language_info": {
   "codemirror_mode": {
    "name": "ipython",
    "version": 3
   },
   "file_extension": ".py",
   "mimetype": "text/x-python",
   "name": "python",
   "nbconvert_exporter": "python",
   "pygments_lexer": "ipython3",
   "version": "3.8.3"
  }
 },
 "nbformat": 4,
 "nbformat_minor": 4
}
